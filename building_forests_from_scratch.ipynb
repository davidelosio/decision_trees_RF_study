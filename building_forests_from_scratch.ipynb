{
 "cells": [
  {
   "cell_type": "markdown",
   "id": "09875034-6f56-4453-8248-dac57db3d45d",
   "metadata": {},
   "source": [
    "Setting numpy spacing (you know were this come from)"
   ]
  },
  {
   "cell_type": "code",
   "execution_count": 22,
   "id": "b1f0e0ec-fe53-492f-993a-c0dddb2e0d7c",
   "metadata": {},
   "outputs": [],
   "source": [
    "import numpy as np\n",
    "import kaggle\n",
    "from pathlib import Path\n",
    "np.set_printoptions(linewidth=130)"
   ]
  },
  {
   "cell_type": "code",
   "execution_count": 23,
   "id": "a522f88a-c853-431a-a8cf-91f017331144",
   "metadata": {},
   "outputs": [
    {
     "name": "stdout",
     "output_type": "stream",
     "text": [
      "titanic.zip: Skipping, found more recently modified local copy (use --force to force download)\n"
     ]
    }
   ],
   "source": [
    "# get titanic dataset\n",
    "\n",
    "import zipfile,kaggle\n",
    "path = Path('titanic')\n",
    "kaggle.api.competition_download_cli(str(path))\n",
    "zipfile.ZipFile(f'{path}.zip').extractall(path)\n"
   ]
  },
  {
   "cell_type": "code",
   "execution_count": 24,
   "id": "8e543578-b3d1-45fc-8190-ede378c67bd0",
   "metadata": {},
   "outputs": [
    {
     "data": {
      "text/html": [
       "<div>\n",
       "<style scoped>\n",
       "    .dataframe tbody tr th:only-of-type {\n",
       "        vertical-align: middle;\n",
       "    }\n",
       "\n",
       "    .dataframe tbody tr th {\n",
       "        vertical-align: top;\n",
       "    }\n",
       "\n",
       "    .dataframe thead th {\n",
       "        text-align: right;\n",
       "    }\n",
       "</style>\n",
       "<table border=\"1\" class=\"dataframe\">\n",
       "  <thead>\n",
       "    <tr style=\"text-align: right;\">\n",
       "      <th></th>\n",
       "      <th>PassengerId</th>\n",
       "      <th>Survived</th>\n",
       "      <th>Pclass</th>\n",
       "      <th>Name</th>\n",
       "      <th>Sex</th>\n",
       "      <th>Age</th>\n",
       "      <th>SibSp</th>\n",
       "      <th>Parch</th>\n",
       "      <th>Ticket</th>\n",
       "      <th>Fare</th>\n",
       "      <th>Cabin</th>\n",
       "      <th>Embarked</th>\n",
       "    </tr>\n",
       "  </thead>\n",
       "  <tbody>\n",
       "    <tr>\n",
       "      <th>0</th>\n",
       "      <td>1</td>\n",
       "      <td>0</td>\n",
       "      <td>3</td>\n",
       "      <td>Braund, Mr. Owen Harris</td>\n",
       "      <td>male</td>\n",
       "      <td>22.0</td>\n",
       "      <td>1</td>\n",
       "      <td>0</td>\n",
       "      <td>A/5 21171</td>\n",
       "      <td>7.2500</td>\n",
       "      <td>NaN</td>\n",
       "      <td>S</td>\n",
       "    </tr>\n",
       "    <tr>\n",
       "      <th>1</th>\n",
       "      <td>2</td>\n",
       "      <td>1</td>\n",
       "      <td>1</td>\n",
       "      <td>Cumings, Mrs. John Bradley (Florence Briggs Th...</td>\n",
       "      <td>female</td>\n",
       "      <td>38.0</td>\n",
       "      <td>1</td>\n",
       "      <td>0</td>\n",
       "      <td>PC 17599</td>\n",
       "      <td>71.2833</td>\n",
       "      <td>C85</td>\n",
       "      <td>C</td>\n",
       "    </tr>\n",
       "    <tr>\n",
       "      <th>2</th>\n",
       "      <td>3</td>\n",
       "      <td>1</td>\n",
       "      <td>3</td>\n",
       "      <td>Heikkinen, Miss. Laina</td>\n",
       "      <td>female</td>\n",
       "      <td>26.0</td>\n",
       "      <td>0</td>\n",
       "      <td>0</td>\n",
       "      <td>STON/O2. 3101282</td>\n",
       "      <td>7.9250</td>\n",
       "      <td>NaN</td>\n",
       "      <td>S</td>\n",
       "    </tr>\n",
       "    <tr>\n",
       "      <th>3</th>\n",
       "      <td>4</td>\n",
       "      <td>1</td>\n",
       "      <td>1</td>\n",
       "      <td>Futrelle, Mrs. Jacques Heath (Lily May Peel)</td>\n",
       "      <td>female</td>\n",
       "      <td>35.0</td>\n",
       "      <td>1</td>\n",
       "      <td>0</td>\n",
       "      <td>113803</td>\n",
       "      <td>53.1000</td>\n",
       "      <td>C123</td>\n",
       "      <td>S</td>\n",
       "    </tr>\n",
       "    <tr>\n",
       "      <th>4</th>\n",
       "      <td>5</td>\n",
       "      <td>0</td>\n",
       "      <td>3</td>\n",
       "      <td>Allen, Mr. William Henry</td>\n",
       "      <td>male</td>\n",
       "      <td>35.0</td>\n",
       "      <td>0</td>\n",
       "      <td>0</td>\n",
       "      <td>373450</td>\n",
       "      <td>8.0500</td>\n",
       "      <td>NaN</td>\n",
       "      <td>S</td>\n",
       "    </tr>\n",
       "  </tbody>\n",
       "</table>\n",
       "</div>"
      ],
      "text/plain": [
       "   PassengerId  Survived  Pclass  \\\n",
       "0            1         0       3   \n",
       "1            2         1       1   \n",
       "2            3         1       3   \n",
       "3            4         1       1   \n",
       "4            5         0       3   \n",
       "\n",
       "                                                Name     Sex   Age  SibSp  \\\n",
       "0                            Braund, Mr. Owen Harris    male  22.0      1   \n",
       "1  Cumings, Mrs. John Bradley (Florence Briggs Th...  female  38.0      1   \n",
       "2                             Heikkinen, Miss. Laina  female  26.0      0   \n",
       "3       Futrelle, Mrs. Jacques Heath (Lily May Peel)  female  35.0      1   \n",
       "4                           Allen, Mr. William Henry    male  35.0      0   \n",
       "\n",
       "   Parch            Ticket     Fare Cabin Embarked  \n",
       "0      0         A/5 21171   7.2500   NaN        S  \n",
       "1      0          PC 17599  71.2833   C85        C  \n",
       "2      0  STON/O2. 3101282   7.9250   NaN        S  \n",
       "3      0            113803  53.1000  C123        S  \n",
       "4      0            373450   8.0500   NaN        S  "
      ]
     },
     "execution_count": 24,
     "metadata": {},
     "output_type": "execute_result"
    }
   ],
   "source": [
    "import pandas as pd\n",
    "\n",
    "df = pd.read_csv(path/'train.csv')\n",
    "tst_df = pd.read_csv(path/'test.csv')\n",
    "\n",
    "df.head()\n"
   ]
  },
  {
   "cell_type": "code",
   "execution_count": 25,
   "id": "4acd81eb-80a2-42a6-b0be-92b69a156cca",
   "metadata": {},
   "outputs": [
    {
     "data": {
      "text/plain": [
       "PassengerId                      1\n",
       "Survived                       0.0\n",
       "Pclass                         3.0\n",
       "Name           Abbing, Mr. Anthony\n",
       "Sex                           male\n",
       "Age                           24.0\n",
       "SibSp                          0.0\n",
       "Parch                          0.0\n",
       "Ticket                        1601\n",
       "Fare                          8.05\n",
       "Cabin                      B96 B98\n",
       "Embarked                         S\n",
       "Name: 0, dtype: object"
      ]
     },
     "execution_count": 25,
     "metadata": {},
     "output_type": "execute_result"
    }
   ],
   "source": [
    "modes = df.mode().iloc[0]\n",
    "modes"
   ]
  },
  {
   "cell_type": "code",
   "execution_count": 26,
   "id": "0e447cfa-9de7-42c8-82d3-590096c920bf",
   "metadata": {},
   "outputs": [],
   "source": [
    "# Compute statistics from training set\n",
    "modes = df.mode().iloc[0]\n",
    "fare_medians = df.groupby('Pclass')['Fare'].median()\n",
    "age_medians = df.groupby(['Pclass', 'Sex'])['Age'].median()"
   ]
  },
  {
   "cell_type": "code",
   "execution_count": 27,
   "id": "76753fb9-951e-40da-9e72-a8b7ba9146db",
   "metadata": {},
   "outputs": [],
   "source": [
    "# Define enhanced processing function\n",
    "def proc_data(df):\n",
    "    # Create new features\n",
    "    df['CabinKnown'] = df['Cabin'].notna().astype(int)\n",
    "    df['Title'] = df['Name'].str.extract(r' ([A-Za-z]+)\\.', expand=False)\n",
    "    df['FamilySize'] = df['SibSp'] + df['Parch'] + 1\n",
    "    df['IsAlone'] = (df['FamilySize'] == 1).astype(int)\n",
    "    \n",
    "    # Fill missing values\n",
    "    df['Fare'] = df['Fare'].fillna(df['Pclass'].map(fare_medians))\n",
    "    df['Age'] = df['Age'].fillna(df.apply(\n",
    "        lambda row: age_medians[row['Pclass'], row['Sex']] if pd.isna(row['Age']) else row['Age'], axis=1))\n",
    "    df.fillna(modes, inplace=True)\n",
    "    \n",
    "    # Transformations\n",
    "    df['LogFare'] = np.log1p(df['Fare'])\n",
    "    \n",
    "    # Convert to categorical\n",
    "    df['Sex'] = pd.Categorical(df['Sex'])\n",
    "    df['Embarked'] = pd.Categorical(df['Embarked'])\n",
    "    df['Title'] = pd.Categorical(df['Title'])\n",
    "    df['Pclass'] = pd.Categorical(df['Pclass'])\n",
    "    df['IsAlone'] = pd.Categorical(df['IsAlone'])\n",
    "\n",
    "proc_data(df)\n",
    "proc_data(tst_df)"
   ]
  },
  {
   "cell_type": "code",
   "execution_count": 28,
   "id": "f72523d3-c014-4477-9299-d6435b8a5af1",
   "metadata": {},
   "outputs": [
    {
     "name": "stdout",
     "output_type": "stream",
     "text": [
      "      Sex Embarked Title Pclass IsAlone   Age  SibSp  Parch   LogFare  \\\n",
      "0    male        S    Mr      3       0  22.0      1      0  2.110213   \n",
      "1  female        C   Mrs      1       0  38.0      1      0  4.280593   \n",
      "2  female        S  Miss      3       1  26.0      0      0  2.188856   \n",
      "3  female        S   Mrs      1       0  35.0      1      0  3.990834   \n",
      "4    male        S    Mr      3       1  35.0      0      0  2.202765   \n",
      "\n",
      "   FamilySize  CabinKnown  Survived  \n",
      "0           2           0         0  \n",
      "1           2           1         1  \n",
      "2           1           0         1  \n",
      "3           2           1         1  \n",
      "4           1           0         0  \n"
     ]
    }
   ],
   "source": [
    "cats = ['Sex', 'Embarked', 'Title', 'Pclass', 'IsAlone']\n",
    "conts = ['Age', 'SibSp', 'Parch', 'LogFare', 'FamilySize', 'CabinKnown']\n",
    "dep = 'Survived'\n",
    "\n",
    "# Inspect the result\n",
    "print(df[cats + conts + [dep]].head())"
   ]
  },
  {
   "cell_type": "code",
   "execution_count": 29,
   "id": "d3cb6187-ebe1-483d-8cff-70aa1ee369f1",
   "metadata": {},
   "outputs": [
    {
     "data": {
      "image/png": "[encoded data removed]",
      "text/plain": [
       "<Figure size 1100x500 with 2 Axes>"
      ]
     },
     "metadata": {},
     "output_type": "display_data"
    }
   ],
   "source": [
    "import seaborn as sns\n",
    "import matplotlib.pyplot as plt\n",
    "\n",
    "fig,axs = plt.subplots(1,2, figsize=(11,5))\n",
    "sns.barplot(data=df, y=dep, x=\"Sex\", ax=axs[0]).set(title=\"Survival rate\")\n",
    "sns.countplot(data=df, x=\"Sex\", ax=axs[1]).set(title=\"Histogram\");"
   ]
  },
  {
   "cell_type": "code",
   "execution_count": 30,
   "id": "84ecf350-8c5b-4aad-af59-d4b697f55f4b",
   "metadata": {},
   "outputs": [
    {
     "data": {
      "text/html": [
       "<div>\n",
       "<style scoped>\n",
       "    .dataframe tbody tr th:only-of-type {\n",
       "        vertical-align: middle;\n",
       "    }\n",
       "\n",
       "    .dataframe tbody tr th {\n",
       "        vertical-align: top;\n",
       "    }\n",
       "\n",
       "    .dataframe thead th {\n",
       "        text-align: right;\n",
       "    }\n",
       "</style>\n",
       "<table border=\"1\" class=\"dataframe\">\n",
       "  <thead>\n",
       "    <tr style=\"text-align: right;\">\n",
       "      <th></th>\n",
       "      <th>PassengerId</th>\n",
       "      <th>Survived</th>\n",
       "      <th>Pclass</th>\n",
       "      <th>Name</th>\n",
       "      <th>Sex</th>\n",
       "      <th>Age</th>\n",
       "      <th>SibSp</th>\n",
       "      <th>Parch</th>\n",
       "      <th>Ticket</th>\n",
       "      <th>Fare</th>\n",
       "      <th>Cabin</th>\n",
       "      <th>Embarked</th>\n",
       "      <th>CabinKnown</th>\n",
       "      <th>Title</th>\n",
       "      <th>FamilySize</th>\n",
       "      <th>IsAlone</th>\n",
       "      <th>LogFare</th>\n",
       "    </tr>\n",
       "  </thead>\n",
       "  <tbody>\n",
       "    <tr>\n",
       "      <th>331</th>\n",
       "      <td>332</td>\n",
       "      <td>0</td>\n",
       "      <td>0</td>\n",
       "      <td>Partner, Mr. Austen</td>\n",
       "      <td>1</td>\n",
       "      <td>45.5</td>\n",
       "      <td>0</td>\n",
       "      <td>0</td>\n",
       "      <td>113043</td>\n",
       "      <td>28.5000</td>\n",
       "      <td>C124</td>\n",
       "      <td>2</td>\n",
       "      <td>1</td>\n",
       "      <td>12</td>\n",
       "      <td>1</td>\n",
       "      <td>1</td>\n",
       "      <td>3.384390</td>\n",
       "    </tr>\n",
       "    <tr>\n",
       "      <th>733</th>\n",
       "      <td>734</td>\n",
       "      <td>0</td>\n",
       "      <td>1</td>\n",
       "      <td>Berriman, Mr. William John</td>\n",
       "      <td>1</td>\n",
       "      <td>23.0</td>\n",
       "      <td>0</td>\n",
       "      <td>0</td>\n",
       "      <td>28425</td>\n",
       "      <td>13.0000</td>\n",
       "      <td>B96 B98</td>\n",
       "      <td>2</td>\n",
       "      <td>0</td>\n",
       "      <td>12</td>\n",
       "      <td>1</td>\n",
       "      <td>1</td>\n",
       "      <td>2.639057</td>\n",
       "    </tr>\n",
       "    <tr>\n",
       "      <th>382</th>\n",
       "      <td>383</td>\n",
       "      <td>0</td>\n",
       "      <td>2</td>\n",
       "      <td>Tikkanen, Mr. Juho</td>\n",
       "      <td>1</td>\n",
       "      <td>32.0</td>\n",
       "      <td>0</td>\n",
       "      <td>0</td>\n",
       "      <td>STON/O 2. 3101293</td>\n",
       "      <td>7.9250</td>\n",
       "      <td>B96 B98</td>\n",
       "      <td>2</td>\n",
       "      <td>0</td>\n",
       "      <td>12</td>\n",
       "      <td>1</td>\n",
       "      <td>1</td>\n",
       "      <td>2.188856</td>\n",
       "    </tr>\n",
       "    <tr>\n",
       "      <th>704</th>\n",
       "      <td>705</td>\n",
       "      <td>0</td>\n",
       "      <td>2</td>\n",
       "      <td>Hansen, Mr. Henrik Juul</td>\n",
       "      <td>1</td>\n",
       "      <td>26.0</td>\n",
       "      <td>1</td>\n",
       "      <td>0</td>\n",
       "      <td>350025</td>\n",
       "      <td>7.8542</td>\n",
       "      <td>B96 B98</td>\n",
       "      <td>2</td>\n",
       "      <td>0</td>\n",
       "      <td>12</td>\n",
       "      <td>2</td>\n",
       "      <td>0</td>\n",
       "      <td>2.180892</td>\n",
       "    </tr>\n",
       "    <tr>\n",
       "      <th>813</th>\n",
       "      <td>814</td>\n",
       "      <td>0</td>\n",
       "      <td>2</td>\n",
       "      <td>Andersson, Miss. Ebba Iris Alfrida</td>\n",
       "      <td>0</td>\n",
       "      <td>6.0</td>\n",
       "      <td>4</td>\n",
       "      <td>2</td>\n",
       "      <td>347082</td>\n",
       "      <td>31.2750</td>\n",
       "      <td>B96 B98</td>\n",
       "      <td>2</td>\n",
       "      <td>0</td>\n",
       "      <td>9</td>\n",
       "      <td>7</td>\n",
       "      <td>0</td>\n",
       "      <td>3.474293</td>\n",
       "    </tr>\n",
       "  </tbody>\n",
       "</table>\n",
       "</div>"
      ],
      "text/plain": [
       "     PassengerId  Survived  Pclass                                Name  Sex  \\\n",
       "331          332         0       0                 Partner, Mr. Austen    1   \n",
       "733          734         0       1          Berriman, Mr. William John    1   \n",
       "382          383         0       2                  Tikkanen, Mr. Juho    1   \n",
       "704          705         0       2             Hansen, Mr. Henrik Juul    1   \n",
       "813          814         0       2  Andersson, Miss. Ebba Iris Alfrida    0   \n",
       "\n",
       "      Age  SibSp  Parch             Ticket     Fare    Cabin  Embarked  \\\n",
       "331  45.5      0      0             113043  28.5000     C124         2   \n",
       "733  23.0      0      0              28425  13.0000  B96 B98         2   \n",
       "382  32.0      0      0  STON/O 2. 3101293   7.9250  B96 B98         2   \n",
       "704  26.0      1      0             350025   7.8542  B96 B98         2   \n",
       "813   6.0      4      2             347082  31.2750  B96 B98         2   \n",
       "\n",
       "     CabinKnown  Title  FamilySize  IsAlone   LogFare  \n",
       "331           1     12           1        1  3.384390  \n",
       "733           0     12           1        1  2.639057  \n",
       "382           0     12           1        1  2.188856  \n",
       "704           0     12           2        0  2.180892  \n",
       "813           0      9           7        0  3.474293  "
      ]
     },
     "execution_count": 30,
     "metadata": {},
     "output_type": "execute_result"
    }
   ],
   "source": [
    "from numpy import random\n",
    "from sklearn.model_selection import train_test_split\n",
    "\n",
    "random.seed(42)\n",
    "trn_df, val_df = train_test_split(df, test_size=0.2)\n",
    "trn_df[cats] = trn_df[cats].apply(lambda x: x.cat.codes)\n",
    "val_df[cats] = val_df[cats].apply(lambda x: x.cat.codes)\n",
    "\n",
    "trn_df.head()"
   ]
  },
  {
   "cell_type": "code",
   "execution_count": 31,
   "id": "7ea95c6a-128b-404a-bfa6-e15ebc3d7204",
   "metadata": {},
   "outputs": [],
   "source": [
    "def xs_y(df):\n",
    "    xs = df[cats+conts].copy()\n",
    "    return xs,df[dep] if dep in df else None\n",
    "\n",
    "trn_xs,trn_y = xs_y(trn_df)\n",
    "val_xs,val_y = xs_y(val_df)"
   ]
  },
  {
   "cell_type": "code",
   "execution_count": 32,
   "id": "4b1882e0-1ee3-4c23-8b53-99c709b4e743",
   "metadata": {},
   "outputs": [],
   "source": [
    "preds = val_xs.Sex==0"
   ]
  },
  {
   "cell_type": "code",
   "execution_count": 33,
   "id": "307a49a7-1872-4c6d-b550-03e273ec6184",
   "metadata": {},
   "outputs": [
    {
     "data": {
      "text/plain": [
       "0.21787709497206703"
      ]
     },
     "execution_count": 33,
     "metadata": {},
     "output_type": "execute_result"
    }
   ],
   "source": [
    "from sklearn.metrics import mean_absolute_error\n",
    "mean_absolute_error(val_y, preds)"
   ]
  },
  {
   "cell_type": "code",
   "execution_count": 34,
   "id": "8b62a957-7e92-4faa-86a5-29658e44b569",
   "metadata": {},
   "outputs": [
    {
     "data": {
      "image/png": "[encoded data removed]",
      "text/plain": [
       "<Figure size 1100x500 with 2 Axes>"
      ]
     },
     "metadata": {},
     "output_type": "display_data"
    }
   ],
   "source": [
    "df_fare = trn_df[trn_df.LogFare>0]\n",
    "fig,axs = plt.subplots(1,2, figsize=(11,5))\n",
    "sns.boxenplot(data=df_fare, x=dep, y=\"LogFare\", ax=axs[0])\n",
    "sns.histplot(data=df, x=\"LogFare\", ax=axs[1])\n",
    "plt.show()"
   ]
  },
  {
   "cell_type": "code",
   "execution_count": 35,
   "id": "d05cf648-673f-401b-a87c-cef57d1ebb89",
   "metadata": {},
   "outputs": [],
   "source": [
    "def gini(df, dep='Survived'):\n",
    "    p = df[dep].mean()\n",
    "    return 1 - p**2 - (1 - p)**2"
   ]
  },
  {
   "cell_type": "code",
   "execution_count": 36,
   "id": "44bee4a5-e6a2-4453-8534-bd45ef7f730b",
   "metadata": {},
   "outputs": [
    {
     "data": {
      "text/plain": [
       "0.4694483019820728"
      ]
     },
     "execution_count": 36,
     "metadata": {},
     "output_type": "execute_result"
    }
   ],
   "source": [
    "gini(trn_df)"
   ]
  },
  {
   "cell_type": "code",
   "execution_count": 37,
   "id": "c604c39e-73b4-41f6-8421-89380753d8dd",
   "metadata": {},
   "outputs": [],
   "source": [
    "def score(df, cond, dep='Survived'):\n",
    "    parent_gini = gini(df, dep)\n",
    "    \n",
    "    lhs = df[cond]\n",
    "    rhs = df[~cond]\n",
    "    \n",
    "    return parent_gini - gini(lhs, dep) * len(lhs)/len(df) - gini(rhs, dep) * len(rhs)/len(df)"
   ]
  },
  {
   "cell_type": "code",
   "execution_count": 38,
   "id": "56d9195e-f716-4252-b373-051fde80b046",
   "metadata": {},
   "outputs": [
    {
     "data": {
      "text/plain": [
       "0.13964795747285233"
      ]
     },
     "execution_count": 38,
     "metadata": {},
     "output_type": "execute_result"
    }
   ],
   "source": [
    "score(df, df.Sex=='male') "
   ]
  },
  {
   "cell_type": "code",
   "execution_count": 39,
   "id": "3ca8b0ed-7331-472f-8435-549f4b46c3b0",
   "metadata": {},
   "outputs": [
    {
     "data": {
      "text/plain": [
       "0.03201654347053301"
      ]
     },
     "execution_count": 39,
     "metadata": {},
     "output_type": "execute_result"
    }
   ],
   "source": [
    "score(df, df.LogFare < 2.7)"
   ]
  },
  {
   "cell_type": "code",
   "execution_count": 40,
   "id": "0c42c406-8cfe-48eb-ab48-445115fc980d",
   "metadata": {},
   "outputs": [
    {
     "data": {
      "application/vnd.jupyter.widget-view+json": {
       "model_id": "d4ba31127efc4b658da37337ab84417b",
       "version_major": 2,
       "version_minor": 0
      },
      "text/plain": [
       "interactive(children=(Dropdown(description='nm', options=('Age', 'SibSp', 'Parch', 'LogFare', 'FamilySize', 'C…"
      ]
     },
     "metadata": {},
     "output_type": "display_data"
    }
   ],
   "source": [
    "conds = ['<', '=']\n",
    "\n",
    "def iscore(nm, split, cnd):\n",
    "    if cnd == '<':\n",
    "        return score(trn_df, trn_df[nm] > split)\n",
    "    else:\n",
    "        return score(trn_df, trn_df[nm] == split)\n",
    "\n",
    "from ipywidgets import interact\n",
    "interact(nm=conts+cats, split=15.5, cnd=conds)(iscore);"
   ]
  },
  {
   "cell_type": "code",
   "execution_count": 41,
   "id": "0cad82a3-c88b-43f1-a5ce-e447c8ded652",
   "metadata": {},
   "outputs": [
    {
     "data": {
      "text/plain": [
       "array([ 0.42,  0.67,  0.75,  0.83,  0.92,  1.  ,  2.  ,  3.  ,  4.  ,  5.  ,  6.  ,  7.  ,  8.  ,  9.  , 10.  , 11.  , 12.  ,\n",
       "       13.  , 14.  , 14.5 , 15.  , 16.  , 17.  , 18.  , 19.  , 20.  , 21.  , 21.5 , 22.  , 23.  , 24.  , 24.5 , 25.  , 26.  ,\n",
       "       27.  , 28.  , 28.5 , 29.  , 30.  , 31.  , 32.  , 32.5 , 33.  , 34.  , 34.5 , 35.  , 36.  , 36.5 , 37.  , 38.  , 39.  ,\n",
       "       40.  , 40.5 , 41.  , 42.  , 43.  , 44.  , 45.  , 45.5 , 46.  , 47.  , 48.  , 49.  , 50.  , 51.  , 52.  , 53.  , 54.  ,\n",
       "       55.  , 55.5 , 56.  , 57.  , 58.  , 59.  , 60.  , 61.  , 62.  , 63.  , 64.  , 65.  , 70.  , 70.5 , 74.  , 80.  ])"
      ]
     },
     "execution_count": 41,
     "metadata": {},
     "output_type": "execute_result"
    }
   ],
   "source": [
    "nm = \"Age\"\n",
    "col = trn_df[nm]\n",
    "unq = col.unique()\n",
    "unq.sort()\n",
    "unq"
   ]
  },
  {
   "cell_type": "code",
   "execution_count": 42,
   "id": "6833a5e0-3cab-4361-9625-1f0faf75e68c",
   "metadata": {},
   "outputs": [
    {
     "data": {
      "text/plain": [
       "6.0"
      ]
     },
     "execution_count": 42,
     "metadata": {},
     "output_type": "execute_result"
    }
   ],
   "source": [
    "scores = np.array([score(df, df[nm] > threshold) for threshold in unq if not np.isnan(threshold)])\n",
    "scores = np.nan_to_num(scores, nan=0.0)\n",
    "unq[scores.argmax()]"
   ]
  },
  {
   "cell_type": "code",
   "execution_count": 43,
   "id": "3cc02162-a29a-41e8-9923-b985079270db",
   "metadata": {},
   "outputs": [
    {
     "data": {
      "text/plain": [
       "(6.0, 0.01128312550541316)"
      ]
     },
     "execution_count": 43,
     "metadata": {},
     "output_type": "execute_result"
    }
   ],
   "source": [
    "def max_in_gain(df, nm):\n",
    "    col = df[nm]\n",
    "    unq = col.dropna().unique()\n",
    "    scores = np.array([score(df, df[nm] <= o) for o in unq if not np.isnan(o)])\n",
    "    scores = np.nan_to_num(scores, nan=0.0)\n",
    "    idx = scores.argmax()\n",
    "    return unq[idx],scores[idx]\n",
    "\n",
    "max_in_gain(df, \"Age\")"
   ]
  },
  {
   "cell_type": "code",
   "execution_count": 44,
   "id": "4f092d54-b3a1-4323-b9c1-0edd0dde6fe8",
   "metadata": {},
   "outputs": [
    {
     "data": {
      "text/plain": [
       "{'Sex': (0, 0.13777997649438187),\n",
       " 'Embarked': (0, 0.011962629260368396),\n",
       " 'Title': (12, 0.05835211917297576),\n",
       " 'Pclass': (1, 0.04633689581360795),\n",
       " 'IsAlone': (0, 0.01530191370299705),\n",
       " 'Age': (5.0, 0.011566117051788616),\n",
       " 'SibSp': (3, 0.0059358222809473525),\n",
       " 'Parch': (0, 0.009205311139441064),\n",
       " 'LogFare': (2.4390808375825834, 0.03861217211191381),\n",
       " 'FamilySize': (1, 0.01530191370299705),\n",
       " 'CabinKnown': (0, 0.04235486147096447)}"
      ]
     },
     "execution_count": 44,
     "metadata": {},
     "output_type": "execute_result"
    }
   ],
   "source": [
    "cols = cats+conts\n",
    "{o:max_in_gain(trn_df, o) for o in cols}"
   ]
  },
  {
   "cell_type": "markdown",
   "id": "7485edcb-e3ab-4d4b-8698-284e52900995",
   "metadata": {},
   "source": [
    "MMMM according to this the largest information gain is achieved by sex, let's see if we calculate the gain using cross-entropy instead of Gini"
   ]
  },
  {
   "cell_type": "code",
   "execution_count": 45,
   "id": "32969589-b7a7-42a3-acba-9879bcfd5678",
   "metadata": {},
   "outputs": [],
   "source": [
    "def cross_entropy(df, dep='Survived'):\n",
    "    p = df[dep].mean()\n",
    "    if p == 0 or p == 1:\n",
    "        return 0  # to avoid log(0) issues; entropy is 0 when pure\n",
    "    return -p * np.log(p) - (1 - p) * np.log(1 - p)"
   ]
  },
  {
   "cell_type": "code",
   "execution_count": 46,
   "id": "a08b2267-ec3f-4abe-a553-70d21dd8ed6e",
   "metadata": {},
   "outputs": [],
   "source": [
    "def ce_score(df, cond, dep='Survived'):\n",
    "    parent_ce = cross_entropy(df, dep)\n",
    "    \n",
    "    lhs = df[cond]\n",
    "    rhs = df[~cond]\n",
    "    \n",
    "    return parent_ce - cross_entropy(lhs, dep) * len(lhs)/len(df) - cross_entropy(rhs, dep) * len(rhs)/len(df)"
   ]
  },
  {
   "cell_type": "code",
   "execution_count": 47,
   "id": "7f3021ad-68f2-4f41-bcd9-eeccf729e8f3",
   "metadata": {},
   "outputs": [
    {
     "data": {
      "text/plain": [
       "(6.0, 0.011578722768531668)"
      ]
     },
     "execution_count": 47,
     "metadata": {},
     "output_type": "execute_result"
    }
   ],
   "source": [
    "def max_in_gain_ce(df, nm):\n",
    "    col = df[nm]\n",
    "    unq = col.dropna().unique()\n",
    "    scores = np.array([ce_score(df, df[nm] <= o) for o in unq if not np.isnan(o)])\n",
    "    scores = np.nan_to_num(scores, nan=0.0)\n",
    "    idx = scores.argmax()\n",
    "    return unq[idx],scores[idx]\n",
    "\n",
    "max_in_gain_ce(df, \"Age\")"
   ]
  },
  {
   "cell_type": "code",
   "execution_count": 48,
   "id": "809f697f-f30e-4394-8c0b-acefa4894123",
   "metadata": {},
   "outputs": [
    {
     "data": {
      "text/plain": [
       "{'Sex': (0, 0.1492870700344417),\n",
       " 'Embarked': (0, 0.01238250808610497),\n",
       " 'Title': (12, 0.06141118175627637),\n",
       " 'Pclass': (1, 0.04978432383360609),\n",
       " 'IsAlone': (0, 0.01621211811964257),\n",
       " 'Age': (5.0, 0.011881651194982856),\n",
       " 'SibSp': (4, 0.008046329770353022),\n",
       " 'Parch': (0, 0.009610333976850266),\n",
       " 'LogFare': (2.4390808375825834, 0.043145685874994955),\n",
       " 'FamilySize': (1, 0.01621211811964257),\n",
       " 'CabinKnown': (0, 0.04401681021051718)}"
      ]
     },
     "execution_count": 48,
     "metadata": {},
     "output_type": "execute_result"
    }
   ],
   "source": [
    "cols = cats+conts\n",
    "{o:max_in_gain_ce(trn_df, o) for o in cols}"
   ]
  },
  {
   "cell_type": "code",
   "execution_count": 49,
   "id": "fabe4153-be1d-4b13-ae40-af38ad119c4f",
   "metadata": {},
   "outputs": [],
   "source": [
    "cols.remove(\"Sex\")\n",
    "ismale = trn_df.Sex==1\n",
    "males,females = trn_df[ismale],trn_df[~ismale]"
   ]
  },
  {
   "cell_type": "code",
   "execution_count": 50,
   "id": "53623914-c564-4bfa-8613-6e203a5c48fa",
   "metadata": {},
   "outputs": [
    {
     "data": {
      "text/plain": [
       "{'Embarked': (0, 0.007312842174070966),\n",
       " 'Title': (8, 0.02805975622713569),\n",
       " 'Pclass': (0, 0.01820000312353115),\n",
       " 'IsAlone': (0, 0.006781257875705715),\n",
       " 'Age': (6.0, 0.02955359013495068),\n",
       " 'SibSp': (2, 0.004308924141516346),\n",
       " 'Parch': (0, 0.007092979810789185),\n",
       " 'LogFare': (3.305053521109253, 0.01888673922233519),\n",
       " 'FamilySize': (1, 0.006781257875705715),\n",
       " 'CabinKnown': (0, 0.031229581076443677)}"
      ]
     },
     "execution_count": 50,
     "metadata": {},
     "output_type": "execute_result"
    }
   ],
   "source": [
    "{o:max_in_gain_ce(males, o) for o in cols}"
   ]
  },
  {
   "cell_type": "code",
   "execution_count": 51,
   "id": "90458643-73e0-4077-8c7b-44e906e974a5",
   "metadata": {},
   "outputs": [
    {
     "data": {
      "text/plain": [
       "{'Embarked': (0, 0.004906974135611308),\n",
       " 'Title': (8, 0.021467785077321527),\n",
       " 'Pclass': (0, 0.012382352046451606),\n",
       " 'IsAlone': (0, 0.004297912282940547),\n",
       " 'Age': (6.0, 0.024278381799043514),\n",
       " 'SibSp': (0, 0.0025127696155566315),\n",
       " 'Parch': (0, 0.0047276466150457525),\n",
       " 'LogFare': (3.305053521109253, 0.01236734578559559),\n",
       " 'FamilySize': (1, 0.004297912282940533),\n",
       " 'CabinKnown': (0, 0.021985396693622122)}"
      ]
     },
     "execution_count": 51,
     "metadata": {},
     "output_type": "execute_result"
    }
   ],
   "source": [
    "{o:max_in_gain(males, o) for o in cols}"
   ]
  },
  {
   "cell_type": "code",
   "execution_count": 52,
   "id": "37b4a59a-3823-40ce-857a-6d88282d7635",
   "metadata": {},
   "outputs": [
    {
     "data": {
      "text/plain": [
       "{'Embarked': (0, 0.016872459262018524),\n",
       " 'Title': (9, 0.01911434463924072),\n",
       " 'Pclass': (1, 0.16263640353015985),\n",
       " 'IsAlone': (0, 0.003886258872752707),\n",
       " 'Age': (21.5, 0.028495758626381373),\n",
       " 'SibSp': (2, 0.0333962543573451),\n",
       " 'Parch': (3, 0.028004538109382193),\n",
       " 'LogFare': (3.8691155044168695, 0.042930677976993736),\n",
       " 'FamilySize': (4, 0.06375610199748942),\n",
       " 'CabinKnown': (0, 0.04849974935777902)}"
      ]
     },
     "execution_count": 52,
     "metadata": {},
     "output_type": "execute_result"
    }
   ],
   "source": [
    "{o:max_in_gain_ce(females, o) for o in cols}"
   ]
  },
  {
   "cell_type": "code",
   "execution_count": 53,
   "id": "18baa7d1-e8df-4872-a918-6d39e1971350",
   "metadata": {},
   "outputs": [
    {
     "data": {
      "text/plain": [
       "{'Embarked': (0, 0.011461160480329968),\n",
       " 'Title': (9, 0.01413296184061237),\n",
       " 'Pclass': (1, 0.11219188214498144),\n",
       " 'IsAlone': (0, 0.0029583267587040274),\n",
       " 'Age': (21.5, 0.02233304619406634),\n",
       " 'SibSp': (2, 0.03008342083827442),\n",
       " 'Parch': (3, 0.022741218936554175),\n",
       " 'LogFare': (3.8691155044168695, 0.02793763742489827),\n",
       " 'FamilySize': (4, 0.05695658296187893),\n",
       " 'CabinKnown': (0, 0.03153037142456433)}"
      ]
     },
     "execution_count": 53,
     "metadata": {},
     "output_type": "execute_result"
    }
   ],
   "source": [
    "{o:max_in_gain(females, o) for o in cols}"
   ]
  },
  {
   "cell_type": "code",
   "execution_count": 54,
   "id": "c26e5d9d-bbef-4ede-8d4b-61ff02918dde",
   "metadata": {},
   "outputs": [],
   "source": [
    "from sklearn.tree import DecisionTreeClassifier, export_graphviz\n",
    "\n",
    "m = DecisionTreeClassifier(max_leaf_nodes=4).fit(trn_xs, trn_y);"
   ]
  },
  {
   "cell_type": "code",
   "execution_count": 57,
   "id": "d45312e8-b530-4b87-a7af-bd26f7d734c8",
   "metadata": {},
   "outputs": [],
   "source": [
    "import graphviz\n",
    "import re\n",
    "\n",
    "def draw_tree(t, df, size=10, ratio=0.6, precision=2, **kwargs):\n",
    "    s=export_graphviz(t, out_file=None, feature_names=df.columns, filled=True, rounded=True,\n",
    "                      special_characters=True, rotate=False, precision=precision, **kwargs)\n",
    "    return graphviz.Source(re.sub('Tree {', f'Tree {{ size={size}; ratio={ratio}', s))"
   ]
  },
  {
   "cell_type": "code",
   "execution_count": 58,
   "id": "926d2261-daec-4f56-b3b8-aeacbc5a57e4",
   "metadata": {},
   "outputs": [
    {
     "data": {
      "image/svg+xml": [
       "<?xml version=\"1.0\" encoding=\"UTF-8\" standalone=\"no\"?>\n",
       "<!DOCTYPE svg PUBLIC \"-//W3C//DTD SVG 1.1//EN\"\n",
       " \"http://www.w3.org/Graphics/SVG/1.1/DTD/svg11.dtd\">\n",
       "<!-- Generated by graphviz version 12.2.1 (0)\n",
       " -->\n",
       "<!-- Title: Tree Pages: 1 -->\n",
       "<svg width=\"543pt\" height=\"329pt\"\n",
       " viewBox=\"0.00 0.00 542.75 328.85\" xmlns=\"http://www.w3.org/2000/svg\" xmlns:xlink=\"http://www.w3.org/1999/xlink\">\n",
       "<g id=\"graph0\" class=\"graph\" transform=\"scale(1 1) rotate(0) translate(4 324.85)\">\n",
       "<title>Tree</title>\n",
       "<polygon fill=\"white\" stroke=\"none\" points=\"-4,4 -4,-324.85 538.75,-324.85 538.75,4 -4,4\"/>\n",
       "<!-- 0 -->\n",
       "<g id=\"node1\" class=\"node\">\n",
       "<title>0</title>\n",
       "<path fill=\"#f5cdb1\" stroke=\"black\" d=\"M315.5,-313C315.5,-313 215.5,-313 215.5,-313 209.5,-313 203.5,-307 203.5,-301 203.5,-301 203.5,-257 203.5,-257 203.5,-251 209.5,-245 215.5,-245 215.5,-245 315.5,-245 315.5,-245 321.5,-245 327.5,-251 327.5,-257 327.5,-257 327.5,-301 327.5,-301 327.5,-307 321.5,-313 315.5,-313\"/>\n",
       "<text text-anchor=\"start\" x=\"237\" y=\"-295.7\" font-family=\"Helvetica,sans-Serif\" font-size=\"14.00\">Sex ≤ 0.5</text>\n",
       "<text text-anchor=\"start\" x=\"234\" y=\"-280.7\" font-family=\"Helvetica,sans-Serif\" font-size=\"14.00\">gini = 0.47</text>\n",
       "<text text-anchor=\"start\" x=\"220.88\" y=\"-265.7\" font-family=\"Helvetica,sans-Serif\" font-size=\"14.00\">samples = 712</text>\n",
       "<text text-anchor=\"start\" x=\"211.5\" y=\"-250.7\" font-family=\"Helvetica,sans-Serif\" font-size=\"14.00\">value = [444, 268]</text>\n",
       "</g>\n",
       "<!-- 1 -->\n",
       "<g id=\"node2\" class=\"node\">\n",
       "<title>1</title>\n",
       "<path fill=\"#7fc0ee\" stroke=\"black\" d=\"M238.75,-185C238.75,-185 146.25,-185 146.25,-185 140.25,-185 134.25,-179 134.25,-173 134.25,-173 134.25,-129 134.25,-129 134.25,-123 140.25,-117 146.25,-117 146.25,-117 238.75,-117 238.75,-117 244.75,-117 250.75,-123 250.75,-129 250.75,-129 250.75,-173 250.75,-173 250.75,-179 244.75,-185 238.75,-185\"/>\n",
       "<text text-anchor=\"start\" x=\"155.75\" y=\"-167.7\" font-family=\"Helvetica,sans-Serif\" font-size=\"14.00\">Pclass ≤ 1.5</text>\n",
       "<text text-anchor=\"start\" x=\"161\" y=\"-152.7\" font-family=\"Helvetica,sans-Serif\" font-size=\"14.00\">gini = 0.39</text>\n",
       "<text text-anchor=\"start\" x=\"147.88\" y=\"-137.7\" font-family=\"Helvetica,sans-Serif\" font-size=\"14.00\">samples = 245</text>\n",
       "<text text-anchor=\"start\" x=\"142.25\" y=\"-122.7\" font-family=\"Helvetica,sans-Serif\" font-size=\"14.00\">value = [64, 181]</text>\n",
       "</g>\n",
       "<!-- 0&#45;&gt;1 -->\n",
       "<g id=\"edge1\" class=\"edge\">\n",
       "<title>0&#45;&gt;1</title>\n",
       "<path fill=\"none\" stroke=\"black\" d=\"M246.13,-244.57C237.31,-229.35 226.78,-211.16 217.38,-194.95\"/>\n",
       "<polygon fill=\"black\" stroke=\"black\" points=\"220.51,-193.36 212.47,-186.46 214.45,-196.87 220.51,-193.36\"/>\n",
       "<text text-anchor=\"middle\" x=\"205.27\" y=\"-203.51\" font-family=\"Helvetica,sans-Serif\" font-size=\"14.00\">True</text>\n",
       "</g>\n",
       "<!-- 2 -->\n",
       "<g id=\"node5\" class=\"node\">\n",
       "<title>2</title>\n",
       "<path fill=\"#eb9e66\" stroke=\"black\" d=\"M384.75,-185C384.75,-185 292.25,-185 292.25,-185 286.25,-185 280.25,-179 280.25,-173 280.25,-173 280.25,-129 280.25,-129 280.25,-123 286.25,-117 292.25,-117 292.25,-117 384.75,-117 384.75,-117 390.75,-117 396.75,-123 396.75,-129 396.75,-129 396.75,-173 396.75,-173 396.75,-179 390.75,-185 384.75,-185\"/>\n",
       "<text text-anchor=\"start\" x=\"309.62\" y=\"-167.7\" font-family=\"Helvetica,sans-Serif\" font-size=\"14.00\">Age ≤ 6.5</text>\n",
       "<text text-anchor=\"start\" x=\"310.75\" y=\"-152.7\" font-family=\"Helvetica,sans-Serif\" font-size=\"14.00\">gini = 0.3</text>\n",
       "<text text-anchor=\"start\" x=\"293.88\" y=\"-137.7\" font-family=\"Helvetica,sans-Serif\" font-size=\"14.00\">samples = 467</text>\n",
       "<text text-anchor=\"start\" x=\"288.25\" y=\"-122.7\" font-family=\"Helvetica,sans-Serif\" font-size=\"14.00\">value = [380, 87]</text>\n",
       "</g>\n",
       "<!-- 0&#45;&gt;2 -->\n",
       "<g id=\"edge4\" class=\"edge\">\n",
       "<title>0&#45;&gt;2</title>\n",
       "<path fill=\"none\" stroke=\"black\" d=\"M284.87,-244.57C293.69,-229.35 304.22,-211.16 313.62,-194.95\"/>\n",
       "<polygon fill=\"black\" stroke=\"black\" points=\"316.55,-196.87 318.53,-186.46 310.49,-193.36 316.55,-196.87\"/>\n",
       "<text text-anchor=\"middle\" x=\"325.73\" y=\"-203.51\" font-family=\"Helvetica,sans-Serif\" font-size=\"14.00\">False</text>\n",
       "</g>\n",
       "<!-- 3 -->\n",
       "<g id=\"node3\" class=\"node\">\n",
       "<title>3</title>\n",
       "<path fill=\"#41a1e6\" stroke=\"black\" d=\"M97,-59.5C97,-59.5 12,-59.5 12,-59.5 6,-59.5 0,-53.5 0,-47.5 0,-47.5 0,-18.5 0,-18.5 0,-12.5 6,-6.5 12,-6.5 12,-6.5 97,-6.5 97,-6.5 103,-6.5 109,-12.5 109,-18.5 109,-18.5 109,-47.5 109,-47.5 109,-53.5 103,-59.5 97,-59.5\"/>\n",
       "<text text-anchor=\"start\" x=\"23\" y=\"-42.2\" font-family=\"Helvetica,sans-Serif\" font-size=\"14.00\">gini = 0.07</text>\n",
       "<text text-anchor=\"start\" x=\"9.88\" y=\"-27.2\" font-family=\"Helvetica,sans-Serif\" font-size=\"14.00\">samples = 130</text>\n",
       "<text text-anchor=\"start\" x=\"8\" y=\"-12.2\" font-family=\"Helvetica,sans-Serif\" font-size=\"14.00\">value = [5, 125]</text>\n",
       "</g>\n",
       "<!-- 1&#45;&gt;3 -->\n",
       "<g id=\"edge2\" class=\"edge\">\n",
       "<title>1&#45;&gt;3</title>\n",
       "<path fill=\"none\" stroke=\"black\" d=\"M152.95,-116.76C134.47,-101.22 112.52,-82.77 94.04,-67.24\"/>\n",
       "<polygon fill=\"black\" stroke=\"black\" points=\"96.35,-64.6 86.44,-60.85 91.84,-69.96 96.35,-64.6\"/>\n",
       "</g>\n",
       "<!-- 4 -->\n",
       "<g id=\"node4\" class=\"node\">\n",
       "<title>4</title>\n",
       "<path fill=\"#fef9f5\" stroke=\"black\" d=\"M246.25,-59.5C246.25,-59.5 138.75,-59.5 138.75,-59.5 132.75,-59.5 126.75,-53.5 126.75,-47.5 126.75,-47.5 126.75,-18.5 126.75,-18.5 126.75,-12.5 132.75,-6.5 138.75,-6.5 138.75,-6.5 246.25,-6.5 246.25,-6.5 252.25,-6.5 258.25,-12.5 258.25,-18.5 258.25,-18.5 258.25,-47.5 258.25,-47.5 258.25,-53.5 252.25,-59.5 246.25,-59.5\"/>\n",
       "<text text-anchor=\"start\" x=\"164.75\" y=\"-42.2\" font-family=\"Helvetica,sans-Serif\" font-size=\"14.00\">gini = 0.5</text>\n",
       "<text text-anchor=\"start\" x=\"147.88\" y=\"-27.2\" font-family=\"Helvetica,sans-Serif\" font-size=\"14.00\">samples = 115</text>\n",
       "<text text-anchor=\"start\" x=\"134.75\" y=\"-12.2\" font-family=\"Helvetica,sans-Serif\" font-size=\"14.00\">value = [59.0, 56.0]</text>\n",
       "</g>\n",
       "<!-- 1&#45;&gt;4 -->\n",
       "<g id=\"edge3\" class=\"edge\">\n",
       "<title>1&#45;&gt;4</title>\n",
       "<path fill=\"none\" stroke=\"black\" d=\"M192.5,-116.76C192.5,-102.5 192.5,-85.77 192.5,-71.11\"/>\n",
       "<polygon fill=\"black\" stroke=\"black\" points=\"196,-71.39 192.5,-61.39 189,-71.39 196,-71.39\"/>\n",
       "</g>\n",
       "<!-- 5 -->\n",
       "<g id=\"node6\" class=\"node\">\n",
       "<title>5</title>\n",
       "<path fill=\"#95cbf1\" stroke=\"black\" d=\"M388.5,-59.5C388.5,-59.5 288.5,-59.5 288.5,-59.5 282.5,-59.5 276.5,-53.5 276.5,-47.5 276.5,-47.5 276.5,-18.5 276.5,-18.5 276.5,-12.5 282.5,-6.5 288.5,-6.5 288.5,-6.5 388.5,-6.5 388.5,-6.5 394.5,-6.5 400.5,-12.5 400.5,-18.5 400.5,-18.5 400.5,-47.5 400.5,-47.5 400.5,-53.5 394.5,-59.5 388.5,-59.5\"/>\n",
       "<text text-anchor=\"start\" x=\"307\" y=\"-42.2\" font-family=\"Helvetica,sans-Serif\" font-size=\"14.00\">gini = 0.43</text>\n",
       "<text text-anchor=\"start\" x=\"297.62\" y=\"-27.2\" font-family=\"Helvetica,sans-Serif\" font-size=\"14.00\">samples = 22</text>\n",
       "<text text-anchor=\"start\" x=\"284.5\" y=\"-12.2\" font-family=\"Helvetica,sans-Serif\" font-size=\"14.00\">value = [7.0, 15.0]</text>\n",
       "</g>\n",
       "<!-- 2&#45;&gt;5 -->\n",
       "<g id=\"edge5\" class=\"edge\">\n",
       "<title>2&#45;&gt;5</title>\n",
       "<path fill=\"none\" stroke=\"black\" d=\"M338.5,-116.76C338.5,-102.5 338.5,-85.77 338.5,-71.11\"/>\n",
       "<polygon fill=\"black\" stroke=\"black\" points=\"342,-71.39 338.5,-61.39 335,-71.39 342,-71.39\"/>\n",
       "</g>\n",
       "<!-- 6 -->\n",
       "<g id=\"node7\" class=\"node\">\n",
       "<title>6</title>\n",
       "<path fill=\"#ea995f\" stroke=\"black\" d=\"M522.75,-59.5C522.75,-59.5 430.25,-59.5 430.25,-59.5 424.25,-59.5 418.25,-53.5 418.25,-47.5 418.25,-47.5 418.25,-18.5 418.25,-18.5 418.25,-12.5 424.25,-6.5 430.25,-6.5 430.25,-6.5 522.75,-6.5 522.75,-6.5 528.75,-6.5 534.75,-12.5 534.75,-18.5 534.75,-18.5 534.75,-47.5 534.75,-47.5 534.75,-53.5 528.75,-59.5 522.75,-59.5\"/>\n",
       "<text text-anchor=\"start\" x=\"445\" y=\"-42.2\" font-family=\"Helvetica,sans-Serif\" font-size=\"14.00\">gini = 0.27</text>\n",
       "<text text-anchor=\"start\" x=\"431.88\" y=\"-27.2\" font-family=\"Helvetica,sans-Serif\" font-size=\"14.00\">samples = 445</text>\n",
       "<text text-anchor=\"start\" x=\"426.25\" y=\"-12.2\" font-family=\"Helvetica,sans-Serif\" font-size=\"14.00\">value = [373, 72]</text>\n",
       "</g>\n",
       "<!-- 2&#45;&gt;6 -->\n",
       "<g id=\"edge6\" class=\"edge\">\n",
       "<title>2&#45;&gt;6</title>\n",
       "<path fill=\"none\" stroke=\"black\" d=\"M378.05,-116.76C396.53,-101.22 418.48,-82.77 436.96,-67.24\"/>\n",
       "<polygon fill=\"black\" stroke=\"black\" points=\"439.16,-69.96 444.56,-60.85 434.65,-64.6 439.16,-69.96\"/>\n",
       "</g>\n",
       "</g>\n",
       "</svg>\n"
      ],
      "text/plain": [
       "<graphviz.sources.Source at 0x16c53f350>"
      ]
     },
     "execution_count": 58,
     "metadata": {},
     "output_type": "execute_result"
    }
   ],
   "source": [
    "draw_tree(m, trn_xs, size=10)"
   ]
  },
  {
   "cell_type": "code",
   "execution_count": 59,
   "id": "700e08a4-27e7-4e4a-98ce-591e9626ac3c",
   "metadata": {},
   "outputs": [
    {
     "data": {
      "text/plain": [
       "0.2346368715083799"
      ]
     },
     "execution_count": 59,
     "metadata": {},
     "output_type": "execute_result"
    }
   ],
   "source": [
    "mean_absolute_error(val_y, m.predict(val_xs))"
   ]
  },
  {
   "cell_type": "code",
   "execution_count": 60,
   "id": "9efc9059-778e-4fa0-869a-89c97d7ee8f6",
   "metadata": {},
   "outputs": [
    {
     "data": {
      "image/svg+xml": [
       "<?xml version=\"1.0\" encoding=\"UTF-8\" standalone=\"no\"?>\n",
       "<!DOCTYPE svg PUBLIC \"-//W3C//DTD SVG 1.1//EN\"\n",
       " \"http://www.w3.org/Graphics/SVG/1.1/DTD/svg11.dtd\">\n",
       "<!-- Generated by graphviz version 12.2.1 (0)\n",
       " -->\n",
       "<!-- Title: Tree Pages: 1 -->\n",
       "<svg width=\"864pt\" height=\"520pt\"\n",
       " viewBox=\"0.00 0.00 864.00 520.26\" xmlns=\"http://www.w3.org/2000/svg\" xmlns:xlink=\"http://www.w3.org/1999/xlink\">\n",
       "<g id=\"graph0\" class=\"graph\" transform=\"scale(0.582603 0.582603) rotate(0) translate(4 889)\">\n",
       "<title>Tree</title>\n",
       "<polygon fill=\"white\" stroke=\"none\" points=\"-4,4 -4,-889 1479,-889 1479,4 -4,4\"/>\n",
       "<!-- 0 -->\n",
       "<g id=\"node1\" class=\"node\">\n",
       "<title>0</title>\n",
       "<path fill=\"#f5cdb1\" stroke=\"black\" d=\"M700.77,-885C700.77,-885 600.77,-885 600.77,-885 594.77,-885 588.77,-879 588.77,-873 588.77,-873 588.77,-829 588.77,-829 588.77,-823 594.77,-817 600.77,-817 600.77,-817 700.77,-817 700.77,-817 706.77,-817 712.77,-823 712.77,-829 712.77,-829 712.77,-873 712.77,-873 712.77,-879 706.77,-885 700.77,-885\"/>\n",
       "<text text-anchor=\"start\" x=\"622.27\" y=\"-867.7\" font-family=\"Helvetica,sans-Serif\" font-size=\"14.00\">Sex ≤ 0.5</text>\n",
       "<text text-anchor=\"start\" x=\"619.27\" y=\"-852.7\" font-family=\"Helvetica,sans-Serif\" font-size=\"14.00\">gini = 0.47</text>\n",
       "<text text-anchor=\"start\" x=\"606.15\" y=\"-837.7\" font-family=\"Helvetica,sans-Serif\" font-size=\"14.00\">samples = 712</text>\n",
       "<text text-anchor=\"start\" x=\"596.77\" y=\"-822.7\" font-family=\"Helvetica,sans-Serif\" font-size=\"14.00\">value = [444, 268]</text>\n",
       "</g>\n",
       "<!-- 1 -->\n",
       "<g id=\"node2\" class=\"node\">\n",
       "<title>1</title>\n",
       "<path fill=\"#7fc0ee\" stroke=\"black\" d=\"M604.02,-781C604.02,-781 511.52,-781 511.52,-781 505.52,-781 499.52,-775 499.52,-769 499.52,-769 499.52,-725 499.52,-725 499.52,-719 505.52,-713 511.52,-713 511.52,-713 604.02,-713 604.02,-713 610.02,-713 616.02,-719 616.02,-725 616.02,-725 616.02,-769 616.02,-769 616.02,-775 610.02,-781 604.02,-781\"/>\n",
       "<text text-anchor=\"start\" x=\"521.02\" y=\"-763.7\" font-family=\"Helvetica,sans-Serif\" font-size=\"14.00\">Pclass ≤ 1.5</text>\n",
       "<text text-anchor=\"start\" x=\"526.27\" y=\"-748.7\" font-family=\"Helvetica,sans-Serif\" font-size=\"14.00\">gini = 0.39</text>\n",
       "<text text-anchor=\"start\" x=\"513.15\" y=\"-733.7\" font-family=\"Helvetica,sans-Serif\" font-size=\"14.00\">samples = 245</text>\n",
       "<text text-anchor=\"start\" x=\"507.52\" y=\"-718.7\" font-family=\"Helvetica,sans-Serif\" font-size=\"14.00\">value = [64, 181]</text>\n",
       "</g>\n",
       "<!-- 0&#45;&gt;1 -->\n",
       "<g id=\"edge1\" class=\"edge\">\n",
       "<title>0&#45;&gt;1</title>\n",
       "<path fill=\"none\" stroke=\"black\" d=\"M620.32,-816.6C612.53,-808.06 604.06,-798.77 595.94,-789.86\"/>\n",
       "<polygon fill=\"black\" stroke=\"black\" points=\"598.64,-787.62 589.31,-782.59 593.46,-792.34 598.64,-787.62\"/>\n",
       "<text text-anchor=\"middle\" x=\"587.14\" y=\"-800.65\" font-family=\"Helvetica,sans-Serif\" font-size=\"14.00\">True</text>\n",
       "</g>\n",
       "<!-- 14 -->\n",
       "<g id=\"node15\" class=\"node\">\n",
       "<title>14</title>\n",
       "<path fill=\"#eb9e66\" stroke=\"black\" d=\"M867.9,-781C867.9,-781 765.65,-781 765.65,-781 759.65,-781 753.65,-775 753.65,-769 753.65,-769 753.65,-725 753.65,-725 753.65,-719 759.65,-713 765.65,-713 765.65,-713 867.9,-713 867.9,-713 873.9,-713 879.9,-719 879.9,-725 879.9,-725 879.9,-769 879.9,-769 879.9,-775 873.9,-781 867.9,-781\"/>\n",
       "<text text-anchor=\"start\" x=\"761.65\" y=\"-763.7\" font-family=\"Helvetica,sans-Serif\" font-size=\"14.00\">CabinKnown ≤ 0.5</text>\n",
       "<text text-anchor=\"start\" x=\"789.02\" y=\"-748.7\" font-family=\"Helvetica,sans-Serif\" font-size=\"14.00\">gini = 0.3</text>\n",
       "<text text-anchor=\"start\" x=\"772.15\" y=\"-733.7\" font-family=\"Helvetica,sans-Serif\" font-size=\"14.00\">samples = 467</text>\n",
       "<text text-anchor=\"start\" x=\"766.52\" y=\"-718.7\" font-family=\"Helvetica,sans-Serif\" font-size=\"14.00\">value = [380, 87]</text>\n",
       "</g>\n",
       "<!-- 0&#45;&gt;14 -->\n",
       "<g id=\"edge14\" class=\"edge\">\n",
       "<title>0&#45;&gt;14</title>\n",
       "<path fill=\"none\" stroke=\"black\" d=\"M705.13,-816.6C720.32,-807.27 736.97,-797.04 752.67,-787.39\"/>\n",
       "<polygon fill=\"black\" stroke=\"black\" points=\"754.32,-790.48 761.01,-782.27 750.65,-784.52 754.32,-790.48\"/>\n",
       "<text text-anchor=\"middle\" x=\"756.49\" y=\"-799.99\" font-family=\"Helvetica,sans-Serif\" font-size=\"14.00\">False</text>\n",
       "</g>\n",
       "<!-- 2 -->\n",
       "<g id=\"node3\" class=\"node\">\n",
       "<title>2</title>\n",
       "<path fill=\"#41a1e6\" stroke=\"black\" d=\"M295.27,-677C295.27,-677 210.27,-677 210.27,-677 204.27,-677 198.27,-671 198.27,-665 198.27,-665 198.27,-621 198.27,-621 198.27,-615 204.27,-609 210.27,-609 210.27,-609 295.27,-609 295.27,-609 301.27,-609 307.27,-615 307.27,-621 307.27,-621 307.27,-665 307.27,-665 307.27,-671 301.27,-677 295.27,-677\"/>\n",
       "<text text-anchor=\"start\" x=\"220.15\" y=\"-659.7\" font-family=\"Helvetica,sans-Serif\" font-size=\"14.00\">Age ≤ 27.5</text>\n",
       "<text text-anchor=\"start\" x=\"221.27\" y=\"-644.7\" font-family=\"Helvetica,sans-Serif\" font-size=\"14.00\">gini = 0.07</text>\n",
       "<text text-anchor=\"start\" x=\"208.15\" y=\"-629.7\" font-family=\"Helvetica,sans-Serif\" font-size=\"14.00\">samples = 130</text>\n",
       "<text text-anchor=\"start\" x=\"206.27\" y=\"-614.7\" font-family=\"Helvetica,sans-Serif\" font-size=\"14.00\">value = [5, 125]</text>\n",
       "</g>\n",
       "<!-- 1&#45;&gt;2 -->\n",
       "<g id=\"edge2\" class=\"edge\">\n",
       "<title>1&#45;&gt;2</title>\n",
       "<path fill=\"none\" stroke=\"black\" d=\"M499.33,-726.45C447.62,-709.16 372.26,-683.96 318.48,-665.97\"/>\n",
       "<polygon fill=\"black\" stroke=\"black\" points=\"319.71,-662.7 309.12,-662.84 317.49,-669.34 319.71,-662.7\"/>\n",
       "</g>\n",
       "<!-- 7 -->\n",
       "<g id=\"node8\" class=\"node\">\n",
       "<title>7</title>\n",
       "<path fill=\"#fef9f5\" stroke=\"black\" d=\"M611.52,-677C611.52,-677 504.02,-677 504.02,-677 498.02,-677 492.02,-671 492.02,-665 492.02,-665 492.02,-621 492.02,-621 492.02,-615 498.02,-609 504.02,-609 504.02,-609 611.52,-609 611.52,-609 617.52,-609 623.52,-615 623.52,-621 623.52,-621 623.52,-665 623.52,-665 623.52,-671 617.52,-677 611.52,-677\"/>\n",
       "<text text-anchor=\"start\" x=\"512.02\" y=\"-659.7\" font-family=\"Helvetica,sans-Serif\" font-size=\"14.00\">LogFare ≤ 3.08</text>\n",
       "<text text-anchor=\"start\" x=\"530.02\" y=\"-644.7\" font-family=\"Helvetica,sans-Serif\" font-size=\"14.00\">gini = 0.5</text>\n",
       "<text text-anchor=\"start\" x=\"513.15\" y=\"-629.7\" font-family=\"Helvetica,sans-Serif\" font-size=\"14.00\">samples = 115</text>\n",
       "<text text-anchor=\"start\" x=\"500.02\" y=\"-614.7\" font-family=\"Helvetica,sans-Serif\" font-size=\"14.00\">value = [59.0, 56.0]</text>\n",
       "</g>\n",
       "<!-- 1&#45;&gt;7 -->\n",
       "<g id=\"edge7\" class=\"edge\">\n",
       "<title>1&#45;&gt;7</title>\n",
       "<path fill=\"none\" stroke=\"black\" d=\"M557.77,-712.6C557.77,-705.03 557.77,-696.87 557.77,-688.9\"/>\n",
       "<polygon fill=\"black\" stroke=\"black\" points=\"561.27,-688.99 557.77,-678.99 554.27,-688.99 561.27,-688.99\"/>\n",
       "</g>\n",
       "<!-- 3 -->\n",
       "<g id=\"node4\" class=\"node\">\n",
       "<title>3</title>\n",
       "<path fill=\"#4ba6e7\" stroke=\"black\" d=\"M131.77,-565.5C131.77,-565.5 31.77,-565.5 31.77,-565.5 25.77,-565.5 19.77,-559.5 19.77,-553.5 19.77,-553.5 19.77,-524.5 19.77,-524.5 19.77,-518.5 25.77,-512.5 31.77,-512.5 31.77,-512.5 131.77,-512.5 131.77,-512.5 137.77,-512.5 143.77,-518.5 143.77,-524.5 143.77,-524.5 143.77,-553.5 143.77,-553.5 143.77,-559.5 137.77,-565.5 131.77,-565.5\"/>\n",
       "<text text-anchor=\"start\" x=\"50.27\" y=\"-548.2\" font-family=\"Helvetica,sans-Serif\" font-size=\"14.00\">gini = 0.15</text>\n",
       "<text text-anchor=\"start\" x=\"40.9\" y=\"-533.2\" font-family=\"Helvetica,sans-Serif\" font-size=\"14.00\">samples = 49</text>\n",
       "<text text-anchor=\"start\" x=\"27.77\" y=\"-518.2\" font-family=\"Helvetica,sans-Serif\" font-size=\"14.00\">value = [4.0, 45.0]</text>\n",
       "</g>\n",
       "<!-- 2&#45;&gt;3 -->\n",
       "<g id=\"edge3\" class=\"edge\">\n",
       "<title>2&#45;&gt;3</title>\n",
       "<path fill=\"none\" stroke=\"black\" d=\"M198.2,-609.45C177.95,-597.37 155.04,-583.7 134.92,-571.7\"/>\n",
       "<polygon fill=\"black\" stroke=\"black\" points=\"136.98,-568.85 126.6,-566.74 133.39,-574.87 136.98,-568.85\"/>\n",
       "</g>\n",
       "<!-- 4 -->\n",
       "<g id=\"node5\" class=\"node\">\n",
       "<title>4</title>\n",
       "<path fill=\"#3b9ee5\" stroke=\"black\" d=\"M291.52,-573C291.52,-573 214.02,-573 214.02,-573 208.02,-573 202.02,-567 202.02,-561 202.02,-561 202.02,-517 202.02,-517 202.02,-511 208.02,-505 214.02,-505 214.02,-505 291.52,-505 291.52,-505 297.52,-505 303.52,-511 303.52,-517 303.52,-517 303.52,-561 303.52,-561 303.52,-567 297.52,-573 291.52,-573\"/>\n",
       "<text text-anchor=\"start\" x=\"220.15\" y=\"-555.7\" font-family=\"Helvetica,sans-Serif\" font-size=\"14.00\">Age ≤ 43.5</text>\n",
       "<text text-anchor=\"start\" x=\"221.27\" y=\"-540.7\" font-family=\"Helvetica,sans-Serif\" font-size=\"14.00\">gini = 0.02</text>\n",
       "<text text-anchor=\"start\" x=\"211.9\" y=\"-525.7\" font-family=\"Helvetica,sans-Serif\" font-size=\"14.00\">samples = 81</text>\n",
       "<text text-anchor=\"start\" x=\"210.02\" y=\"-510.7\" font-family=\"Helvetica,sans-Serif\" font-size=\"14.00\">value = [1, 80]</text>\n",
       "</g>\n",
       "<!-- 2&#45;&gt;4 -->\n",
       "<g id=\"edge4\" class=\"edge\">\n",
       "<title>2&#45;&gt;4</title>\n",
       "<path fill=\"none\" stroke=\"black\" d=\"M252.77,-608.6C252.77,-601.03 252.77,-592.87 252.77,-584.9\"/>\n",
       "<polygon fill=\"black\" stroke=\"black\" points=\"256.27,-584.99 252.77,-574.99 249.27,-584.99 256.27,-584.99\"/>\n",
       "</g>\n",
       "<!-- 5 -->\n",
       "<g id=\"node6\" class=\"node\">\n",
       "<title>5</title>\n",
       "<path fill=\"#399de5\" stroke=\"black\" d=\"M135.52,-461.5C135.52,-461.5 58.02,-461.5 58.02,-461.5 52.02,-461.5 46.02,-455.5 46.02,-449.5 46.02,-449.5 46.02,-420.5 46.02,-420.5 46.02,-414.5 52.02,-408.5 58.02,-408.5 58.02,-408.5 135.52,-408.5 135.52,-408.5 141.52,-408.5 147.52,-414.5 147.52,-420.5 147.52,-420.5 147.52,-449.5 147.52,-449.5 147.52,-455.5 141.52,-461.5 135.52,-461.5\"/>\n",
       "<text text-anchor=\"start\" x=\"69.02\" y=\"-444.2\" font-family=\"Helvetica,sans-Serif\" font-size=\"14.00\">gini = 0.0</text>\n",
       "<text text-anchor=\"start\" x=\"55.9\" y=\"-429.2\" font-family=\"Helvetica,sans-Serif\" font-size=\"14.00\">samples = 55</text>\n",
       "<text text-anchor=\"start\" x=\"54.02\" y=\"-414.2\" font-family=\"Helvetica,sans-Serif\" font-size=\"14.00\">value = [0, 55]</text>\n",
       "</g>\n",
       "<!-- 4&#45;&gt;5 -->\n",
       "<g id=\"edge5\" class=\"edge\">\n",
       "<title>4&#45;&gt;5</title>\n",
       "<path fill=\"none\" stroke=\"black\" d=\"M201.69,-504.6C183.77,-492.89 163.69,-479.76 145.93,-468.14\"/>\n",
       "<polygon fill=\"black\" stroke=\"black\" points=\"147.89,-465.24 137.6,-462.7 144.06,-471.1 147.89,-465.24\"/>\n",
       "</g>\n",
       "<!-- 6 -->\n",
       "<g id=\"node7\" class=\"node\">\n",
       "<title>6</title>\n",
       "<path fill=\"#41a1e6\" stroke=\"black\" d=\"M293.52,-461.5C293.52,-461.5 216.02,-461.5 216.02,-461.5 210.02,-461.5 204.02,-455.5 204.02,-449.5 204.02,-449.5 204.02,-420.5 204.02,-420.5 204.02,-414.5 210.02,-408.5 216.02,-408.5 216.02,-408.5 293.52,-408.5 293.52,-408.5 299.52,-408.5 305.52,-414.5 305.52,-420.5 305.52,-420.5 305.52,-449.5 305.52,-449.5 305.52,-455.5 299.52,-461.5 293.52,-461.5\"/>\n",
       "<text text-anchor=\"start\" x=\"223.27\" y=\"-444.2\" font-family=\"Helvetica,sans-Serif\" font-size=\"14.00\">gini = 0.07</text>\n",
       "<text text-anchor=\"start\" x=\"213.9\" y=\"-429.2\" font-family=\"Helvetica,sans-Serif\" font-size=\"14.00\">samples = 26</text>\n",
       "<text text-anchor=\"start\" x=\"212.02\" y=\"-414.2\" font-family=\"Helvetica,sans-Serif\" font-size=\"14.00\">value = [1, 25]</text>\n",
       "</g>\n",
       "<!-- 4&#45;&gt;6 -->\n",
       "<g id=\"edge6\" class=\"edge\">\n",
       "<title>4&#45;&gt;6</title>\n",
       "<path fill=\"none\" stroke=\"black\" d=\"M253.43,-504.6C253.63,-494.47 253.84,-483.28 254.05,-472.93\"/>\n",
       "<polygon fill=\"black\" stroke=\"black\" points=\"257.54,-473.29 254.24,-463.22 250.54,-473.15 257.54,-473.29\"/>\n",
       "</g>\n",
       "<!-- 8 -->\n",
       "<g id=\"node9\" class=\"node\">\n",
       "<title>8</title>\n",
       "<path fill=\"#c5e2f7\" stroke=\"black\" d=\"M483.52,-573C483.52,-573 376.02,-573 376.02,-573 370.02,-573 364.02,-567 364.02,-561 364.02,-561 364.02,-517 364.02,-517 364.02,-511 370.02,-505 376.02,-505 376.02,-505 483.52,-505 483.52,-505 489.52,-505 495.52,-511 495.52,-517 495.52,-517 495.52,-561 495.52,-561 495.52,-567 489.52,-573 483.52,-573\"/>\n",
       "<text text-anchor=\"start\" x=\"381.77\" y=\"-555.7\" font-family=\"Helvetica,sans-Serif\" font-size=\"14.00\">Embarked ≤ 1.5</text>\n",
       "<text text-anchor=\"start\" x=\"398.27\" y=\"-540.7\" font-family=\"Helvetica,sans-Serif\" font-size=\"14.00\">gini = 0.49</text>\n",
       "<text text-anchor=\"start\" x=\"388.9\" y=\"-525.7\" font-family=\"Helvetica,sans-Serif\" font-size=\"14.00\">samples = 87</text>\n",
       "<text text-anchor=\"start\" x=\"372.02\" y=\"-510.7\" font-family=\"Helvetica,sans-Serif\" font-size=\"14.00\">value = [36.0, 51.0]</text>\n",
       "</g>\n",
       "<!-- 7&#45;&gt;8 -->\n",
       "<g id=\"edge8\" class=\"edge\">\n",
       "<title>7&#45;&gt;8</title>\n",
       "<path fill=\"none\" stroke=\"black\" d=\"M515.86,-608.6C504.59,-599.62 492.27,-589.81 480.58,-580.49\"/>\n",
       "<polygon fill=\"black\" stroke=\"black\" points=\"482.96,-577.91 472.96,-574.42 478.6,-583.39 482.96,-577.91\"/>\n",
       "</g>\n",
       "<!-- 13 -->\n",
       "<g id=\"node14\" class=\"node\">\n",
       "<title>13</title>\n",
       "<path fill=\"#eb9c64\" stroke=\"black\" d=\"M645.52,-565.5C645.52,-565.5 568.02,-565.5 568.02,-565.5 562.02,-565.5 556.02,-559.5 556.02,-553.5 556.02,-553.5 556.02,-524.5 556.02,-524.5 556.02,-518.5 562.02,-512.5 568.02,-512.5 568.02,-512.5 645.52,-512.5 645.52,-512.5 651.52,-512.5 657.52,-518.5 657.52,-524.5 657.52,-524.5 657.52,-553.5 657.52,-553.5 657.52,-559.5 651.52,-565.5 645.52,-565.5\"/>\n",
       "<text text-anchor=\"start\" x=\"575.27\" y=\"-548.2\" font-family=\"Helvetica,sans-Serif\" font-size=\"14.00\">gini = 0.29</text>\n",
       "<text text-anchor=\"start\" x=\"565.9\" y=\"-533.2\" font-family=\"Helvetica,sans-Serif\" font-size=\"14.00\">samples = 28</text>\n",
       "<text text-anchor=\"start\" x=\"564.02\" y=\"-518.2\" font-family=\"Helvetica,sans-Serif\" font-size=\"14.00\">value = [23, 5]</text>\n",
       "</g>\n",
       "<!-- 7&#45;&gt;13 -->\n",
       "<g id=\"edge13\" class=\"edge\">\n",
       "<title>7&#45;&gt;13</title>\n",
       "<path fill=\"none\" stroke=\"black\" d=\"M573.82,-608.6C578.84,-598.14 584.4,-586.56 589.51,-575.93\"/>\n",
       "<polygon fill=\"black\" stroke=\"black\" points=\"592.59,-577.6 593.77,-567.07 586.28,-574.57 592.59,-577.6\"/>\n",
       "</g>\n",
       "<!-- 9 -->\n",
       "<g id=\"node10\" class=\"node\">\n",
       "<title>9</title>\n",
       "<path fill=\"#90c8f0\" stroke=\"black\" d=\"M459.27,-461.5C459.27,-461.5 374.27,-461.5 374.27,-461.5 368.27,-461.5 362.27,-455.5 362.27,-449.5 362.27,-449.5 362.27,-420.5 362.27,-420.5 362.27,-414.5 368.27,-408.5 374.27,-408.5 374.27,-408.5 459.27,-408.5 459.27,-408.5 465.27,-408.5 471.27,-414.5 471.27,-420.5 471.27,-420.5 471.27,-449.5 471.27,-449.5 471.27,-455.5 465.27,-461.5 459.27,-461.5\"/>\n",
       "<text text-anchor=\"start\" x=\"385.27\" y=\"-444.2\" font-family=\"Helvetica,sans-Serif\" font-size=\"14.00\">gini = 0.42</text>\n",
       "<text text-anchor=\"start\" x=\"375.9\" y=\"-429.2\" font-family=\"Helvetica,sans-Serif\" font-size=\"14.00\">samples = 36</text>\n",
       "<text text-anchor=\"start\" x=\"370.27\" y=\"-414.2\" font-family=\"Helvetica,sans-Serif\" font-size=\"14.00\">value = [11, 25]</text>\n",
       "</g>\n",
       "<!-- 8&#45;&gt;9 -->\n",
       "<g id=\"edge9\" class=\"edge\">\n",
       "<title>8&#45;&gt;9</title>\n",
       "<path fill=\"none\" stroke=\"black\" d=\"M425.51,-504.6C424.22,-494.47 422.8,-483.28 421.48,-472.93\"/>\n",
       "<polygon fill=\"black\" stroke=\"black\" points=\"424.98,-472.68 420.24,-463.21 418.03,-473.57 424.98,-472.68\"/>\n",
       "</g>\n",
       "<!-- 10 -->\n",
       "<g id=\"node11\" class=\"node\">\n",
       "<title>10</title>\n",
       "<path fill=\"#f7fbfe\" stroke=\"black\" d=\"M626.27,-469C626.27,-469 541.27,-469 541.27,-469 535.27,-469 529.27,-463 529.27,-457 529.27,-457 529.27,-413 529.27,-413 529.27,-407 535.27,-401 541.27,-401 541.27,-401 626.27,-401 626.27,-401 632.27,-401 638.27,-407 638.27,-413 638.27,-413 638.27,-457 638.27,-457 638.27,-463 632.27,-469 626.27,-469\"/>\n",
       "<text text-anchor=\"start\" x=\"544.4\" y=\"-451.7\" font-family=\"Helvetica,sans-Serif\" font-size=\"14.00\">IsAlone ≤ 0.5</text>\n",
       "<text text-anchor=\"start\" x=\"556.02\" y=\"-436.7\" font-family=\"Helvetica,sans-Serif\" font-size=\"14.00\">gini = 0.5</text>\n",
       "<text text-anchor=\"start\" x=\"542.9\" y=\"-421.7\" font-family=\"Helvetica,sans-Serif\" font-size=\"14.00\">samples = 51</text>\n",
       "<text text-anchor=\"start\" x=\"537.27\" y=\"-406.7\" font-family=\"Helvetica,sans-Serif\" font-size=\"14.00\">value = [25, 26]</text>\n",
       "</g>\n",
       "<!-- 8&#45;&gt;10 -->\n",
       "<g id=\"edge10\" class=\"edge\">\n",
       "<title>8&#45;&gt;10</title>\n",
       "<path fill=\"none\" stroke=\"black\" d=\"M480.2,-504.6C494.16,-495.36 509.44,-485.23 523.89,-475.66\"/>\n",
       "<polygon fill=\"black\" stroke=\"black\" points=\"525.57,-478.75 531.97,-470.31 521.7,-472.91 525.57,-478.75\"/>\n",
       "</g>\n",
       "<!-- 11 -->\n",
       "<g id=\"node12\" class=\"node\">\n",
       "<title>11</title>\n",
       "<path fill=\"#d5eaf9\" stroke=\"black\" d=\"M456.52,-357.5C456.52,-357.5 349.02,-357.5 349.02,-357.5 343.02,-357.5 337.02,-351.5 337.02,-345.5 337.02,-345.5 337.02,-316.5 337.02,-316.5 337.02,-310.5 343.02,-304.5 349.02,-304.5 349.02,-304.5 456.52,-304.5 456.52,-304.5 462.52,-304.5 468.52,-310.5 468.52,-316.5 468.52,-316.5 468.52,-345.5 468.52,-345.5 468.52,-351.5 462.52,-357.5 456.52,-357.5\"/>\n",
       "<text text-anchor=\"start\" x=\"371.27\" y=\"-340.2\" font-family=\"Helvetica,sans-Serif\" font-size=\"14.00\">gini = 0.49</text>\n",
       "<text text-anchor=\"start\" x=\"361.9\" y=\"-325.2\" font-family=\"Helvetica,sans-Serif\" font-size=\"14.00\">samples = 25</text>\n",
       "<text text-anchor=\"start\" x=\"345.02\" y=\"-310.2\" font-family=\"Helvetica,sans-Serif\" font-size=\"14.00\">value = [11.0, 14.0]</text>\n",
       "</g>\n",
       "<!-- 10&#45;&gt;11 -->\n",
       "<g id=\"edge11\" class=\"edge\">\n",
       "<title>10&#45;&gt;11</title>\n",
       "<path fill=\"none\" stroke=\"black\" d=\"M528.97,-403.12C506.78,-390.61 481.17,-376.18 458.84,-363.6\"/>\n",
       "<polygon fill=\"black\" stroke=\"black\" points=\"460.59,-360.57 450.16,-358.71 457.15,-366.66 460.59,-360.57\"/>\n",
       "</g>\n",
       "<!-- 12 -->\n",
       "<g id=\"node13\" class=\"node\">\n",
       "<title>12</title>\n",
       "<path fill=\"#fbede3\" stroke=\"black\" d=\"M626.27,-357.5C626.27,-357.5 541.27,-357.5 541.27,-357.5 535.27,-357.5 529.27,-351.5 529.27,-345.5 529.27,-345.5 529.27,-316.5 529.27,-316.5 529.27,-310.5 535.27,-304.5 541.27,-304.5 541.27,-304.5 626.27,-304.5 626.27,-304.5 632.27,-304.5 638.27,-310.5 638.27,-316.5 638.27,-316.5 638.27,-345.5 638.27,-345.5 638.27,-351.5 632.27,-357.5 626.27,-357.5\"/>\n",
       "<text text-anchor=\"start\" x=\"556.02\" y=\"-340.2\" font-family=\"Helvetica,sans-Serif\" font-size=\"14.00\">gini = 0.5</text>\n",
       "<text text-anchor=\"start\" x=\"542.9\" y=\"-325.2\" font-family=\"Helvetica,sans-Serif\" font-size=\"14.00\">samples = 26</text>\n",
       "<text text-anchor=\"start\" x=\"537.27\" y=\"-310.2\" font-family=\"Helvetica,sans-Serif\" font-size=\"14.00\">value = [14, 12]</text>\n",
       "</g>\n",
       "<!-- 10&#45;&gt;12 -->\n",
       "<g id=\"edge12\" class=\"edge\">\n",
       "<title>10&#45;&gt;12</title>\n",
       "<path fill=\"none\" stroke=\"black\" d=\"M583.77,-400.6C583.77,-390.47 583.77,-379.28 583.77,-368.93\"/>\n",
       "<polygon fill=\"black\" stroke=\"black\" points=\"587.27,-369.22 583.77,-359.22 580.27,-369.22 587.27,-369.22\"/>\n",
       "</g>\n",
       "<!-- 15 -->\n",
       "<g id=\"node16\" class=\"node\">\n",
       "<title>15</title>\n",
       "<path fill=\"#e99558\" stroke=\"black\" d=\"M863.02,-677C863.02,-677 770.52,-677 770.52,-677 764.52,-677 758.52,-671 758.52,-665 758.52,-665 758.52,-621 758.52,-621 758.52,-615 764.52,-609 770.52,-609 770.52,-609 863.02,-609 863.02,-609 869.02,-609 875.02,-615 875.02,-621 875.02,-621 875.02,-665 875.02,-665 875.02,-671 869.02,-677 863.02,-677\"/>\n",
       "<text text-anchor=\"start\" x=\"784.15\" y=\"-659.7\" font-family=\"Helvetica,sans-Serif\" font-size=\"14.00\">Age ≤ 13.0</text>\n",
       "<text text-anchor=\"start\" x=\"785.27\" y=\"-644.7\" font-family=\"Helvetica,sans-Serif\" font-size=\"14.00\">gini = 0.24</text>\n",
       "<text text-anchor=\"start\" x=\"772.15\" y=\"-629.7\" font-family=\"Helvetica,sans-Serif\" font-size=\"14.00\">samples = 381</text>\n",
       "<text text-anchor=\"start\" x=\"766.52\" y=\"-614.7\" font-family=\"Helvetica,sans-Serif\" font-size=\"14.00\">value = [329, 52]</text>\n",
       "</g>\n",
       "<!-- 14&#45;&gt;15 -->\n",
       "<g id=\"edge15\" class=\"edge\">\n",
       "<title>14&#45;&gt;15</title>\n",
       "<path fill=\"none\" stroke=\"black\" d=\"M816.77,-712.6C816.77,-705.03 816.77,-696.87 816.77,-688.9\"/>\n",
       "<polygon fill=\"black\" stroke=\"black\" points=\"820.27,-688.99 816.77,-678.99 813.27,-688.99 820.27,-688.99\"/>\n",
       "</g>\n",
       "<!-- 36 -->\n",
       "<g id=\"node37\" class=\"node\">\n",
       "<title>36</title>\n",
       "<path fill=\"#f7d7c1\" stroke=\"black\" d=\"M1165.52,-677C1165.52,-677 1058.02,-677 1058.02,-677 1052.02,-677 1046.02,-671 1046.02,-665 1046.02,-665 1046.02,-621 1046.02,-621 1046.02,-615 1052.02,-609 1058.02,-609 1058.02,-609 1165.52,-609 1165.52,-609 1171.52,-609 1177.52,-615 1177.52,-621 1177.52,-621 1177.52,-665 1177.52,-665 1177.52,-671 1171.52,-677 1165.52,-677\"/>\n",
       "<text text-anchor=\"start\" x=\"1075.4\" y=\"-659.7\" font-family=\"Helvetica,sans-Serif\" font-size=\"14.00\">Age ≤ 36.25</text>\n",
       "<text text-anchor=\"start\" x=\"1080.27\" y=\"-644.7\" font-family=\"Helvetica,sans-Serif\" font-size=\"14.00\">gini = 0.48</text>\n",
       "<text text-anchor=\"start\" x=\"1070.9\" y=\"-629.7\" font-family=\"Helvetica,sans-Serif\" font-size=\"14.00\">samples = 86</text>\n",
       "<text text-anchor=\"start\" x=\"1054.02\" y=\"-614.7\" font-family=\"Helvetica,sans-Serif\" font-size=\"14.00\">value = [51.0, 35.0]</text>\n",
       "</g>\n",
       "<!-- 14&#45;&gt;36 -->\n",
       "<g id=\"edge36\" class=\"edge\">\n",
       "<title>14&#45;&gt;36</title>\n",
       "<path fill=\"none\" stroke=\"black\" d=\"M880.06,-724.12C925.39,-708.45 986.67,-687.25 1034.83,-670.6\"/>\n",
       "<polygon fill=\"black\" stroke=\"black\" points=\"1035.78,-673.98 1044.09,-667.4 1033.5,-667.36 1035.78,-673.98\"/>\n",
       "</g>\n",
       "<!-- 16 -->\n",
       "<g id=\"node17\" class=\"node\">\n",
       "<title>16</title>\n",
       "<path fill=\"#fbede3\" stroke=\"black\" d=\"M811.27,-565.5C811.27,-565.5 726.27,-565.5 726.27,-565.5 720.27,-565.5 714.27,-559.5 714.27,-553.5 714.27,-553.5 714.27,-524.5 714.27,-524.5 714.27,-518.5 720.27,-512.5 726.27,-512.5 726.27,-512.5 811.27,-512.5 811.27,-512.5 817.27,-512.5 823.27,-518.5 823.27,-524.5 823.27,-524.5 823.27,-553.5 823.27,-553.5 823.27,-559.5 817.27,-565.5 811.27,-565.5\"/>\n",
       "<text text-anchor=\"start\" x=\"741.02\" y=\"-548.2\" font-family=\"Helvetica,sans-Serif\" font-size=\"14.00\">gini = 0.5</text>\n",
       "<text text-anchor=\"start\" x=\"727.9\" y=\"-533.2\" font-family=\"Helvetica,sans-Serif\" font-size=\"14.00\">samples = 26</text>\n",
       "<text text-anchor=\"start\" x=\"722.27\" y=\"-518.2\" font-family=\"Helvetica,sans-Serif\" font-size=\"14.00\">value = [14, 12]</text>\n",
       "</g>\n",
       "<!-- 15&#45;&gt;16 -->\n",
       "<g id=\"edge16\" class=\"edge\">\n",
       "<title>15&#45;&gt;16</title>\n",
       "<path fill=\"none\" stroke=\"black\" d=\"M801.05,-608.6C796.13,-598.14 790.68,-586.56 785.68,-575.93\"/>\n",
       "<polygon fill=\"black\" stroke=\"black\" points=\"788.94,-574.63 781.51,-567.08 782.6,-577.61 788.94,-574.63\"/>\n",
       "</g>\n",
       "<!-- 17 -->\n",
       "<g id=\"node18\" class=\"node\">\n",
       "<title>17</title>\n",
       "<path fill=\"#e89152\" stroke=\"black\" d=\"M987.02,-573C987.02,-573 894.52,-573 894.52,-573 888.52,-573 882.52,-567 882.52,-561 882.52,-561 882.52,-517 882.52,-517 882.52,-511 888.52,-505 894.52,-505 894.52,-505 987.02,-505 987.02,-505 993.02,-505 999.02,-511 999.02,-517 999.02,-517 999.02,-561 999.02,-561 999.02,-567 993.02,-573 987.02,-573\"/>\n",
       "<text text-anchor=\"start\" x=\"904.4\" y=\"-555.7\" font-family=\"Helvetica,sans-Serif\" font-size=\"14.00\">Age ≤ 32.25</text>\n",
       "<text text-anchor=\"start\" x=\"913.02\" y=\"-540.7\" font-family=\"Helvetica,sans-Serif\" font-size=\"14.00\">gini = 0.2</text>\n",
       "<text text-anchor=\"start\" x=\"896.15\" y=\"-525.7\" font-family=\"Helvetica,sans-Serif\" font-size=\"14.00\">samples = 355</text>\n",
       "<text text-anchor=\"start\" x=\"890.52\" y=\"-510.7\" font-family=\"Helvetica,sans-Serif\" font-size=\"14.00\">value = [315, 40]</text>\n",
       "</g>\n",
       "<!-- 15&#45;&gt;17 -->\n",
       "<g id=\"edge17\" class=\"edge\">\n",
       "<title>15&#45;&gt;17</title>\n",
       "<path fill=\"none\" stroke=\"black\" d=\"M857.37,-608.6C868.19,-599.71 879.99,-590 891.22,-580.76\"/>\n",
       "<polygon fill=\"black\" stroke=\"black\" points=\"893.41,-583.49 898.91,-574.44 888.96,-578.08 893.41,-583.49\"/>\n",
       "</g>\n",
       "<!-- 18 -->\n",
       "<g id=\"node19\" class=\"node\">\n",
       "<title>18</title>\n",
       "<path fill=\"#e99458\" stroke=\"black\" d=\"M983.02,-469C983.02,-469 890.52,-469 890.52,-469 884.52,-469 878.52,-463 878.52,-457 878.52,-457 878.52,-413 878.52,-413 878.52,-407 884.52,-401 890.52,-401 890.52,-401 983.02,-401 983.02,-401 989.02,-401 995.02,-407 995.02,-413 995.02,-413 995.02,-457 995.02,-457 995.02,-463 989.02,-469 983.02,-469\"/>\n",
       "<text text-anchor=\"start\" x=\"904.15\" y=\"-451.7\" font-family=\"Helvetica,sans-Serif\" font-size=\"14.00\">Age ≤ 25.5</text>\n",
       "<text text-anchor=\"start\" x=\"905.27\" y=\"-436.7\" font-family=\"Helvetica,sans-Serif\" font-size=\"14.00\">gini = 0.23</text>\n",
       "<text text-anchor=\"start\" x=\"892.15\" y=\"-421.7\" font-family=\"Helvetica,sans-Serif\" font-size=\"14.00\">samples = 254</text>\n",
       "<text text-anchor=\"start\" x=\"886.52\" y=\"-406.7\" font-family=\"Helvetica,sans-Serif\" font-size=\"14.00\">value = [220, 34]</text>\n",
       "</g>\n",
       "<!-- 17&#45;&gt;18 -->\n",
       "<g id=\"edge18\" class=\"edge\">\n",
       "<title>17&#45;&gt;18</title>\n",
       "<path fill=\"none\" stroke=\"black\" d=\"M939.46,-504.6C939.16,-497.03 938.84,-488.87 938.53,-480.9\"/>\n",
       "<polygon fill=\"black\" stroke=\"black\" points=\"942.03,-480.84 938.14,-470.99 935.04,-481.12 942.03,-480.84\"/>\n",
       "</g>\n",
       "<!-- 31 -->\n",
       "<g id=\"node32\" class=\"node\">\n",
       "<title>31</title>\n",
       "<path fill=\"#e78946\" stroke=\"black\" d=\"M1287.4,-469C1287.4,-469 1206.15,-469 1206.15,-469 1200.15,-469 1194.15,-463 1194.15,-457 1194.15,-457 1194.15,-413 1194.15,-413 1194.15,-407 1200.15,-401 1206.15,-401 1206.15,-401 1287.4,-401 1287.4,-401 1293.4,-401 1299.4,-407 1299.4,-413 1299.4,-413 1299.4,-457 1299.4,-457 1299.4,-463 1293.4,-469 1287.4,-469\"/>\n",
       "<text text-anchor=\"start\" x=\"1214.15\" y=\"-451.7\" font-family=\"Helvetica,sans-Serif\" font-size=\"14.00\">Age ≤ 41.5</text>\n",
       "<text text-anchor=\"start\" x=\"1215.27\" y=\"-436.7\" font-family=\"Helvetica,sans-Serif\" font-size=\"14.00\">gini = 0.11</text>\n",
       "<text text-anchor=\"start\" x=\"1202.15\" y=\"-421.7\" font-family=\"Helvetica,sans-Serif\" font-size=\"14.00\">samples = 101</text>\n",
       "<text text-anchor=\"start\" x=\"1204.02\" y=\"-406.7\" font-family=\"Helvetica,sans-Serif\" font-size=\"14.00\">value = [95, 6]</text>\n",
       "</g>\n",
       "<!-- 17&#45;&gt;31 -->\n",
       "<g id=\"edge31\" class=\"edge\">\n",
       "<title>17&#45;&gt;31</title>\n",
       "<path fill=\"none\" stroke=\"black\" d=\"M999.41,-518.45C1051.93,-500.95 1128.79,-475.33 1182.87,-457.3\"/>\n",
       "<polygon fill=\"black\" stroke=\"black\" points=\"1183.89,-460.65 1192.27,-454.17 1181.67,-454.01 1183.89,-460.65\"/>\n",
       "</g>\n",
       "<!-- 19 -->\n",
       "<g id=\"node20\" class=\"node\">\n",
       "<title>19</title>\n",
       "<path fill=\"#e88e4e\" stroke=\"black\" d=\"M809.02,-365C809.02,-365 716.52,-365 716.52,-365 710.52,-365 704.52,-359 704.52,-353 704.52,-353 704.52,-309 704.52,-309 704.52,-303 710.52,-297 716.52,-297 716.52,-297 809.02,-297 809.02,-297 815.02,-297 821.02,-303 821.02,-309 821.02,-309 821.02,-353 821.02,-353 821.02,-359 815.02,-365 809.02,-365\"/>\n",
       "<text text-anchor=\"start\" x=\"717.02\" y=\"-347.7\" font-family=\"Helvetica,sans-Serif\" font-size=\"14.00\">LogFare ≤ 2.17</text>\n",
       "<text text-anchor=\"start\" x=\"731.27\" y=\"-332.7\" font-family=\"Helvetica,sans-Serif\" font-size=\"14.00\">gini = 0.17</text>\n",
       "<text text-anchor=\"start\" x=\"718.15\" y=\"-317.7\" font-family=\"Helvetica,sans-Serif\" font-size=\"14.00\">samples = 177</text>\n",
       "<text text-anchor=\"start\" x=\"712.52\" y=\"-302.7\" font-family=\"Helvetica,sans-Serif\" font-size=\"14.00\">value = [160, 17]</text>\n",
       "</g>\n",
       "<!-- 18&#45;&gt;19 -->\n",
       "<g id=\"edge19\" class=\"edge\">\n",
       "<title>18&#45;&gt;19</title>\n",
       "<path fill=\"none\" stroke=\"black\" d=\"M879.8,-400.6C863.72,-391.18 846.09,-380.84 829.5,-371.12\"/>\n",
       "<polygon fill=\"black\" stroke=\"black\" points=\"831.58,-368.28 821.18,-366.24 828.04,-374.32 831.58,-368.28\"/>\n",
       "</g>\n",
       "<!-- 28 -->\n",
       "<g id=\"node29\" class=\"node\">\n",
       "<title>28</title>\n",
       "<path fill=\"#eca571\" stroke=\"black\" d=\"M979.27,-365C979.27,-365 894.27,-365 894.27,-365 888.27,-365 882.27,-359 882.27,-353 882.27,-353 882.27,-309 882.27,-309 882.27,-303 888.27,-297 894.27,-297 894.27,-297 979.27,-297 979.27,-297 985.27,-297 991.27,-303 991.27,-309 991.27,-309 991.27,-353 991.27,-353 991.27,-359 985.27,-365 979.27,-365\"/>\n",
       "<text text-anchor=\"start\" x=\"900.02\" y=\"-347.7\" font-family=\"Helvetica,sans-Serif\" font-size=\"14.00\">Pclass ≤ 1.5</text>\n",
       "<text text-anchor=\"start\" x=\"905.27\" y=\"-332.7\" font-family=\"Helvetica,sans-Serif\" font-size=\"14.00\">gini = 0.34</text>\n",
       "<text text-anchor=\"start\" x=\"895.9\" y=\"-317.7\" font-family=\"Helvetica,sans-Serif\" font-size=\"14.00\">samples = 77</text>\n",
       "<text text-anchor=\"start\" x=\"890.27\" y=\"-302.7\" font-family=\"Helvetica,sans-Serif\" font-size=\"14.00\">value = [60, 17]</text>\n",
       "</g>\n",
       "<!-- 18&#45;&gt;28 -->\n",
       "<g id=\"edge28\" class=\"edge\">\n",
       "<title>18&#45;&gt;28</title>\n",
       "<path fill=\"none\" stroke=\"black\" d=\"M936.77,-400.6C936.77,-393.03 936.77,-384.87 936.77,-376.9\"/>\n",
       "<polygon fill=\"black\" stroke=\"black\" points=\"940.27,-376.99 936.77,-366.99 933.27,-376.99 940.27,-376.99\"/>\n",
       "</g>\n",
       "<!-- 20 -->\n",
       "<g id=\"node21\" class=\"node\">\n",
       "<title>20</title>\n",
       "<path fill=\"#ea985d\" stroke=\"black\" d=\"M637.77,-261C637.77,-261 549.77,-261 549.77,-261 543.77,-261 537.77,-255 537.77,-249 537.77,-249 537.77,-205 537.77,-205 537.77,-199 543.77,-193 549.77,-193 549.77,-193 637.77,-193 637.77,-193 643.77,-193 649.77,-199 649.77,-205 649.77,-205 649.77,-249 649.77,-249 649.77,-255 643.77,-261 637.77,-261\"/>\n",
       "<text text-anchor=\"start\" x=\"545.77\" y=\"-243.7\" font-family=\"Helvetica,sans-Serif\" font-size=\"14.00\">Embarked ≤ 1.5</text>\n",
       "<text text-anchor=\"start\" x=\"562.27\" y=\"-228.7\" font-family=\"Helvetica,sans-Serif\" font-size=\"14.00\">gini = 0.26</text>\n",
       "<text text-anchor=\"start\" x=\"552.9\" y=\"-213.7\" font-family=\"Helvetica,sans-Serif\" font-size=\"14.00\">samples = 59</text>\n",
       "<text text-anchor=\"start\" x=\"551.02\" y=\"-198.7\" font-family=\"Helvetica,sans-Serif\" font-size=\"14.00\">value = [50, 9]</text>\n",
       "</g>\n",
       "<!-- 19&#45;&gt;20 -->\n",
       "<g id=\"edge20\" class=\"edge\">\n",
       "<title>19&#45;&gt;20</title>\n",
       "<path fill=\"none\" stroke=\"black\" d=\"M707.43,-296.6C691.97,-287.27 675.02,-277.04 659.04,-267.39\"/>\n",
       "<polygon fill=\"black\" stroke=\"black\" points=\"660.9,-264.43 650.53,-262.26 657.28,-270.42 660.9,-264.43\"/>\n",
       "</g>\n",
       "<!-- 23 -->\n",
       "<g id=\"node24\" class=\"node\">\n",
       "<title>23</title>\n",
       "<path fill=\"#e78a47\" stroke=\"black\" d=\"M805.27,-261C805.27,-261 720.27,-261 720.27,-261 714.27,-261 708.27,-255 708.27,-249 708.27,-249 708.27,-205 708.27,-205 708.27,-199 714.27,-193 720.27,-193 720.27,-193 805.27,-193 805.27,-193 811.27,-193 817.27,-199 817.27,-205 817.27,-205 817.27,-249 817.27,-249 817.27,-255 811.27,-261 805.27,-261\"/>\n",
       "<text text-anchor=\"start\" x=\"730.15\" y=\"-243.7\" font-family=\"Helvetica,sans-Serif\" font-size=\"14.00\">Age ≤ 20.5</text>\n",
       "<text text-anchor=\"start\" x=\"731.27\" y=\"-228.7\" font-family=\"Helvetica,sans-Serif\" font-size=\"14.00\">gini = 0.13</text>\n",
       "<text text-anchor=\"start\" x=\"718.15\" y=\"-213.7\" font-family=\"Helvetica,sans-Serif\" font-size=\"14.00\">samples = 118</text>\n",
       "<text text-anchor=\"start\" x=\"716.27\" y=\"-198.7\" font-family=\"Helvetica,sans-Serif\" font-size=\"14.00\">value = [110, 8]</text>\n",
       "</g>\n",
       "<!-- 19&#45;&gt;23 -->\n",
       "<g id=\"edge23\" class=\"edge\">\n",
       "<title>19&#45;&gt;23</title>\n",
       "<path fill=\"none\" stroke=\"black\" d=\"M762.77,-296.6C762.77,-289.03 762.77,-280.87 762.77,-272.9\"/>\n",
       "<polygon fill=\"black\" stroke=\"black\" points=\"766.27,-272.99 762.77,-262.99 759.27,-272.99 766.27,-272.99\"/>\n",
       "</g>\n",
       "<!-- 21 -->\n",
       "<g id=\"node22\" class=\"node\">\n",
       "<title>21</title>\n",
       "<path fill=\"#e99456\" stroke=\"black\" d=\"M479.52,-149.5C479.52,-149.5 402.02,-149.5 402.02,-149.5 396.02,-149.5 390.02,-143.5 390.02,-137.5 390.02,-137.5 390.02,-108.5 390.02,-108.5 390.02,-102.5 396.02,-96.5 402.02,-96.5 402.02,-96.5 479.52,-96.5 479.52,-96.5 485.52,-96.5 491.52,-102.5 491.52,-108.5 491.52,-108.5 491.52,-137.5 491.52,-137.5 491.52,-143.5 485.52,-149.5 479.52,-149.5\"/>\n",
       "<text text-anchor=\"start\" x=\"409.27\" y=\"-132.2\" font-family=\"Helvetica,sans-Serif\" font-size=\"14.00\">gini = 0.22</text>\n",
       "<text text-anchor=\"start\" x=\"399.9\" y=\"-117.2\" font-family=\"Helvetica,sans-Serif\" font-size=\"14.00\">samples = 31</text>\n",
       "<text text-anchor=\"start\" x=\"398.02\" y=\"-102.2\" font-family=\"Helvetica,sans-Serif\" font-size=\"14.00\">value = [27, 4]</text>\n",
       "</g>\n",
       "<!-- 20&#45;&gt;21 -->\n",
       "<g id=\"edge21\" class=\"edge\">\n",
       "<title>20&#45;&gt;21</title>\n",
       "<path fill=\"none\" stroke=\"black\" d=\"M543.67,-192.6C526.03,-180.84 506.24,-167.65 488.77,-156\"/>\n",
       "<polygon fill=\"black\" stroke=\"black\" points=\"490.85,-153.18 480.59,-150.55 486.97,-159 490.85,-153.18\"/>\n",
       "</g>\n",
       "<!-- 22 -->\n",
       "<g id=\"node23\" class=\"node\">\n",
       "<title>22</title>\n",
       "<path fill=\"#eb9c64\" stroke=\"black\" d=\"M636.52,-149.5C636.52,-149.5 559.02,-149.5 559.02,-149.5 553.02,-149.5 547.02,-143.5 547.02,-137.5 547.02,-137.5 547.02,-108.5 547.02,-108.5 547.02,-102.5 553.02,-96.5 559.02,-96.5 559.02,-96.5 636.52,-96.5 636.52,-96.5 642.52,-96.5 648.52,-102.5 648.52,-108.5 648.52,-108.5 648.52,-137.5 648.52,-137.5 648.52,-143.5 642.52,-149.5 636.52,-149.5\"/>\n",
       "<text text-anchor=\"start\" x=\"566.27\" y=\"-132.2\" font-family=\"Helvetica,sans-Serif\" font-size=\"14.00\">gini = 0.29</text>\n",
       "<text text-anchor=\"start\" x=\"556.9\" y=\"-117.2\" font-family=\"Helvetica,sans-Serif\" font-size=\"14.00\">samples = 28</text>\n",
       "<text text-anchor=\"start\" x=\"555.02\" y=\"-102.2\" font-family=\"Helvetica,sans-Serif\" font-size=\"14.00\">value = [23, 5]</text>\n",
       "</g>\n",
       "<!-- 20&#45;&gt;22 -->\n",
       "<g id=\"edge22\" class=\"edge\">\n",
       "<title>20&#45;&gt;22</title>\n",
       "<path fill=\"none\" stroke=\"black\" d=\"M595.08,-192.6C595.48,-182.47 595.92,-171.28 596.32,-160.93\"/>\n",
       "<polygon fill=\"black\" stroke=\"black\" points=\"599.81,-161.35 596.7,-151.22 592.81,-161.07 599.81,-161.35\"/>\n",
       "</g>\n",
       "<!-- 24 -->\n",
       "<g id=\"node25\" class=\"node\">\n",
       "<title>24</title>\n",
       "<path fill=\"#e99559\" stroke=\"black\" d=\"M799.52,-149.5C799.52,-149.5 722.02,-149.5 722.02,-149.5 716.02,-149.5 710.02,-143.5 710.02,-137.5 710.02,-137.5 710.02,-108.5 710.02,-108.5 710.02,-102.5 716.02,-96.5 722.02,-96.5 722.02,-96.5 799.52,-96.5 799.52,-96.5 805.52,-96.5 811.52,-102.5 811.52,-108.5 811.52,-108.5 811.52,-137.5 811.52,-137.5 811.52,-143.5 805.52,-149.5 799.52,-149.5\"/>\n",
       "<text text-anchor=\"start\" x=\"729.27\" y=\"-132.2\" font-family=\"Helvetica,sans-Serif\" font-size=\"14.00\">gini = 0.24</text>\n",
       "<text text-anchor=\"start\" x=\"719.9\" y=\"-117.2\" font-family=\"Helvetica,sans-Serif\" font-size=\"14.00\">samples = 36</text>\n",
       "<text text-anchor=\"start\" x=\"718.02\" y=\"-102.2\" font-family=\"Helvetica,sans-Serif\" font-size=\"14.00\">value = [31, 5]</text>\n",
       "</g>\n",
       "<!-- 23&#45;&gt;24 -->\n",
       "<g id=\"edge24\" class=\"edge\">\n",
       "<title>23&#45;&gt;24</title>\n",
       "<path fill=\"none\" stroke=\"black\" d=\"M762.12,-192.6C761.92,-182.47 761.7,-171.28 761.5,-160.93\"/>\n",
       "<polygon fill=\"black\" stroke=\"black\" points=\"765,-161.15 761.31,-151.22 758,-161.29 765,-161.15\"/>\n",
       "</g>\n",
       "<!-- 25 -->\n",
       "<g id=\"node26\" class=\"node\">\n",
       "<title>25</title>\n",
       "<path fill=\"#e68641\" stroke=\"black\" d=\"M963.52,-157C963.52,-157 880.02,-157 880.02,-157 874.02,-157 868.02,-151 868.02,-145 868.02,-145 868.02,-101 868.02,-101 868.02,-95 874.02,-89 880.02,-89 880.02,-89 963.52,-89 963.52,-89 969.52,-89 975.52,-95 975.52,-101 975.52,-101 975.52,-145 975.52,-145 975.52,-151 969.52,-157 963.52,-157\"/>\n",
       "<text text-anchor=\"start\" x=\"876.02\" y=\"-139.7\" font-family=\"Helvetica,sans-Serif\" font-size=\"14.00\">LogFare ≤ 2.21</text>\n",
       "<text text-anchor=\"start\" x=\"890.27\" y=\"-124.7\" font-family=\"Helvetica,sans-Serif\" font-size=\"14.00\">gini = 0.07</text>\n",
       "<text text-anchor=\"start\" x=\"880.9\" y=\"-109.7\" font-family=\"Helvetica,sans-Serif\" font-size=\"14.00\">samples = 82</text>\n",
       "<text text-anchor=\"start\" x=\"879.02\" y=\"-94.7\" font-family=\"Helvetica,sans-Serif\" font-size=\"14.00\">value = [79, 3]</text>\n",
       "</g>\n",
       "<!-- 23&#45;&gt;25 -->\n",
       "<g id=\"edge25\" class=\"edge\">\n",
       "<title>23&#45;&gt;25</title>\n",
       "<path fill=\"none\" stroke=\"black\" d=\"M814.83,-192.6C829.25,-183.36 845.03,-173.23 859.94,-163.66\"/>\n",
       "<polygon fill=\"black\" stroke=\"black\" points=\"861.79,-166.64 868.32,-158.29 858.01,-160.74 861.79,-166.64\"/>\n",
       "</g>\n",
       "<!-- 26 -->\n",
       "<g id=\"node27\" class=\"node\">\n",
       "<title>26</title>\n",
       "<path fill=\"#e58139\" stroke=\"black\" d=\"M881.52,-53.5C881.52,-53.5 804.02,-53.5 804.02,-53.5 798.02,-53.5 792.02,-47.5 792.02,-41.5 792.02,-41.5 792.02,-12.5 792.02,-12.5 792.02,-6.5 798.02,-0.5 804.02,-0.5 804.02,-0.5 881.52,-0.5 881.52,-0.5 887.52,-0.5 893.52,-6.5 893.52,-12.5 893.52,-12.5 893.52,-41.5 893.52,-41.5 893.52,-47.5 887.52,-53.5 881.52,-53.5\"/>\n",
       "<text text-anchor=\"start\" x=\"815.02\" y=\"-36.2\" font-family=\"Helvetica,sans-Serif\" font-size=\"14.00\">gini = 0.0</text>\n",
       "<text text-anchor=\"start\" x=\"801.9\" y=\"-21.2\" font-family=\"Helvetica,sans-Serif\" font-size=\"14.00\">samples = 36</text>\n",
       "<text text-anchor=\"start\" x=\"800.02\" y=\"-6.2\" font-family=\"Helvetica,sans-Serif\" font-size=\"14.00\">value = [36, 0]</text>\n",
       "</g>\n",
       "<!-- 25&#45;&gt;26 -->\n",
       "<g id=\"edge26\" class=\"edge\">\n",
       "<title>25&#45;&gt;26</title>\n",
       "<path fill=\"none\" stroke=\"black\" d=\"M893.7,-88.59C886.59,-80.13 878.94,-71.03 871.78,-62.52\"/>\n",
       "<polygon fill=\"black\" stroke=\"black\" points=\"874.64,-60.47 865.52,-55.07 869.28,-64.98 874.64,-60.47\"/>\n",
       "</g>\n",
       "<!-- 27 -->\n",
       "<g id=\"node28\" class=\"node\">\n",
       "<title>27</title>\n",
       "<path fill=\"#e78a47\" stroke=\"black\" d=\"M1039.52,-53.5C1039.52,-53.5 962.02,-53.5 962.02,-53.5 956.02,-53.5 950.02,-47.5 950.02,-41.5 950.02,-41.5 950.02,-12.5 950.02,-12.5 950.02,-6.5 956.02,-0.5 962.02,-0.5 962.02,-0.5 1039.52,-0.5 1039.52,-0.5 1045.52,-0.5 1051.52,-6.5 1051.52,-12.5 1051.52,-12.5 1051.52,-41.5 1051.52,-41.5 1051.52,-47.5 1045.52,-53.5 1039.52,-53.5\"/>\n",
       "<text text-anchor=\"start\" x=\"969.27\" y=\"-36.2\" font-family=\"Helvetica,sans-Serif\" font-size=\"14.00\">gini = 0.12</text>\n",
       "<text text-anchor=\"start\" x=\"959.9\" y=\"-21.2\" font-family=\"Helvetica,sans-Serif\" font-size=\"14.00\">samples = 46</text>\n",
       "<text text-anchor=\"start\" x=\"958.02\" y=\"-6.2\" font-family=\"Helvetica,sans-Serif\" font-size=\"14.00\">value = [43, 3]</text>\n",
       "</g>\n",
       "<!-- 25&#45;&gt;27 -->\n",
       "<g id=\"edge27\" class=\"edge\">\n",
       "<title>25&#45;&gt;27</title>\n",
       "<path fill=\"none\" stroke=\"black\" d=\"M949.85,-88.59C956.96,-80.13 964.61,-71.03 971.76,-62.52\"/>\n",
       "<polygon fill=\"black\" stroke=\"black\" points=\"974.27,-64.98 978.02,-55.07 968.91,-60.47 974.27,-64.98\"/>\n",
       "</g>\n",
       "<!-- 29 -->\n",
       "<g id=\"node30\" class=\"node\">\n",
       "<title>29</title>\n",
       "<path fill=\"#e9965a\" stroke=\"black\" d=\"M963.52,-253.5C963.52,-253.5 886.02,-253.5 886.02,-253.5 880.02,-253.5 874.02,-247.5 874.02,-241.5 874.02,-241.5 874.02,-212.5 874.02,-212.5 874.02,-206.5 880.02,-200.5 886.02,-200.5 886.02,-200.5 963.52,-200.5 963.52,-200.5 969.52,-200.5 975.52,-206.5 975.52,-212.5 975.52,-212.5 975.52,-241.5 975.52,-241.5 975.52,-247.5 969.52,-253.5 963.52,-253.5\"/>\n",
       "<text text-anchor=\"start\" x=\"893.27\" y=\"-236.2\" font-family=\"Helvetica,sans-Serif\" font-size=\"14.00\">gini = 0.24</text>\n",
       "<text text-anchor=\"start\" x=\"883.9\" y=\"-221.2\" font-family=\"Helvetica,sans-Serif\" font-size=\"14.00\">samples = 28</text>\n",
       "<text text-anchor=\"start\" x=\"882.02\" y=\"-206.2\" font-family=\"Helvetica,sans-Serif\" font-size=\"14.00\">value = [24, 4]</text>\n",
       "</g>\n",
       "<!-- 28&#45;&gt;29 -->\n",
       "<g id=\"edge29\" class=\"edge\">\n",
       "<title>28&#45;&gt;29</title>\n",
       "<path fill=\"none\" stroke=\"black\" d=\"M932.84,-296.6C931.65,-286.47 930.33,-275.28 929.12,-264.93\"/>\n",
       "<polygon fill=\"black\" stroke=\"black\" points=\"932.62,-264.73 927.97,-255.21 925.67,-265.55 932.62,-264.73\"/>\n",
       "</g>\n",
       "<!-- 30 -->\n",
       "<g id=\"node31\" class=\"node\">\n",
       "<title>30</title>\n",
       "<path fill=\"#eeae80\" stroke=\"black\" d=\"M1128.27,-253.5C1128.27,-253.5 1043.27,-253.5 1043.27,-253.5 1037.27,-253.5 1031.27,-247.5 1031.27,-241.5 1031.27,-241.5 1031.27,-212.5 1031.27,-212.5 1031.27,-206.5 1037.27,-200.5 1043.27,-200.5 1043.27,-200.5 1128.27,-200.5 1128.27,-200.5 1134.27,-200.5 1140.27,-206.5 1140.27,-212.5 1140.27,-212.5 1140.27,-241.5 1140.27,-241.5 1140.27,-247.5 1134.27,-253.5 1128.27,-253.5\"/>\n",
       "<text text-anchor=\"start\" x=\"1054.27\" y=\"-236.2\" font-family=\"Helvetica,sans-Serif\" font-size=\"14.00\">gini = 0.39</text>\n",
       "<text text-anchor=\"start\" x=\"1044.9\" y=\"-221.2\" font-family=\"Helvetica,sans-Serif\" font-size=\"14.00\">samples = 49</text>\n",
       "<text text-anchor=\"start\" x=\"1039.27\" y=\"-206.2\" font-family=\"Helvetica,sans-Serif\" font-size=\"14.00\">value = [36, 13]</text>\n",
       "</g>\n",
       "<!-- 28&#45;&gt;30 -->\n",
       "<g id=\"edge30\" class=\"edge\">\n",
       "<title>28&#45;&gt;30</title>\n",
       "<path fill=\"none\" stroke=\"black\" d=\"M985.56,-296.6C1002.75,-284.84 1022.01,-271.65 1039.03,-260\"/>\n",
       "<polygon fill=\"black\" stroke=\"black\" points=\"1040.7,-263.1 1046.97,-254.56 1036.74,-257.32 1040.7,-263.1\"/>\n",
       "</g>\n",
       "<!-- 32 -->\n",
       "<g id=\"node33\" class=\"node\">\n",
       "<title>32</title>\n",
       "<path fill=\"#e6833d\" stroke=\"black\" d=\"M1288.52,-365C1288.52,-365 1205.02,-365 1205.02,-365 1199.02,-365 1193.02,-359 1193.02,-353 1193.02,-353 1193.02,-309 1193.02,-309 1193.02,-303 1199.02,-297 1205.02,-297 1205.02,-297 1288.52,-297 1288.52,-297 1294.52,-297 1300.52,-303 1300.52,-309 1300.52,-309 1300.52,-353 1300.52,-353 1300.52,-359 1294.52,-365 1288.52,-365\"/>\n",
       "<text text-anchor=\"start\" x=\"1201.02\" y=\"-347.7\" font-family=\"Helvetica,sans-Serif\" font-size=\"14.00\">LogFare ≤ 2.31</text>\n",
       "<text text-anchor=\"start\" x=\"1215.27\" y=\"-332.7\" font-family=\"Helvetica,sans-Serif\" font-size=\"14.00\">gini = 0.04</text>\n",
       "<text text-anchor=\"start\" x=\"1205.9\" y=\"-317.7\" font-family=\"Helvetica,sans-Serif\" font-size=\"14.00\">samples = 53</text>\n",
       "<text text-anchor=\"start\" x=\"1204.02\" y=\"-302.7\" font-family=\"Helvetica,sans-Serif\" font-size=\"14.00\">value = [52, 1]</text>\n",
       "</g>\n",
       "<!-- 31&#45;&gt;32 -->\n",
       "<g id=\"edge32\" class=\"edge\">\n",
       "<title>31&#45;&gt;32</title>\n",
       "<path fill=\"none\" stroke=\"black\" d=\"M1246.77,-400.6C1246.77,-393.03 1246.77,-384.87 1246.77,-376.9\"/>\n",
       "<polygon fill=\"black\" stroke=\"black\" points=\"1250.27,-376.99 1246.77,-366.99 1243.27,-376.99 1250.27,-376.99\"/>\n",
       "</g>\n",
       "<!-- 35 -->\n",
       "<g id=\"node36\" class=\"node\">\n",
       "<title>35</title>\n",
       "<path fill=\"#e89050\" stroke=\"black\" d=\"M1447.52,-357.5C1447.52,-357.5 1370.02,-357.5 1370.02,-357.5 1364.02,-357.5 1358.02,-351.5 1358.02,-345.5 1358.02,-345.5 1358.02,-316.5 1358.02,-316.5 1358.02,-310.5 1364.02,-304.5 1370.02,-304.5 1370.02,-304.5 1447.52,-304.5 1447.52,-304.5 1453.52,-304.5 1459.52,-310.5 1459.52,-316.5 1459.52,-316.5 1459.52,-345.5 1459.52,-345.5 1459.52,-351.5 1453.52,-357.5 1447.52,-357.5\"/>\n",
       "<text text-anchor=\"start\" x=\"1377.27\" y=\"-340.2\" font-family=\"Helvetica,sans-Serif\" font-size=\"14.00\">gini = 0.19</text>\n",
       "<text text-anchor=\"start\" x=\"1367.9\" y=\"-325.2\" font-family=\"Helvetica,sans-Serif\" font-size=\"14.00\">samples = 48</text>\n",
       "<text text-anchor=\"start\" x=\"1366.02\" y=\"-310.2\" font-family=\"Helvetica,sans-Serif\" font-size=\"14.00\">value = [43, 5]</text>\n",
       "</g>\n",
       "<!-- 31&#45;&gt;35 -->\n",
       "<g id=\"edge35\" class=\"edge\">\n",
       "<title>31&#45;&gt;35</title>\n",
       "<path fill=\"none\" stroke=\"black\" d=\"M1299.82,-400.6C1318.51,-388.83 1339.47,-375.63 1357.97,-363.98\"/>\n",
       "<polygon fill=\"black\" stroke=\"black\" points=\"1359.81,-366.97 1366.41,-358.68 1356.08,-361.04 1359.81,-366.97\"/>\n",
       "</g>\n",
       "<!-- 33 -->\n",
       "<g id=\"node34\" class=\"node\">\n",
       "<title>33</title>\n",
       "<path fill=\"#e68641\" stroke=\"black\" d=\"M1285.52,-253.5C1285.52,-253.5 1208.02,-253.5 1208.02,-253.5 1202.02,-253.5 1196.02,-247.5 1196.02,-241.5 1196.02,-241.5 1196.02,-212.5 1196.02,-212.5 1196.02,-206.5 1202.02,-200.5 1208.02,-200.5 1208.02,-200.5 1285.52,-200.5 1285.52,-200.5 1291.52,-200.5 1297.52,-206.5 1297.52,-212.5 1297.52,-212.5 1297.52,-241.5 1297.52,-241.5 1297.52,-247.5 1291.52,-253.5 1285.52,-253.5\"/>\n",
       "<text text-anchor=\"start\" x=\"1215.27\" y=\"-236.2\" font-family=\"Helvetica,sans-Serif\" font-size=\"14.00\">gini = 0.08</text>\n",
       "<text text-anchor=\"start\" x=\"1205.9\" y=\"-221.2\" font-family=\"Helvetica,sans-Serif\" font-size=\"14.00\">samples = 25</text>\n",
       "<text text-anchor=\"start\" x=\"1204.02\" y=\"-206.2\" font-family=\"Helvetica,sans-Serif\" font-size=\"14.00\">value = [24, 1]</text>\n",
       "</g>\n",
       "<!-- 32&#45;&gt;33 -->\n",
       "<g id=\"edge33\" class=\"edge\">\n",
       "<title>32&#45;&gt;33</title>\n",
       "<path fill=\"none\" stroke=\"black\" d=\"M1246.77,-296.6C1246.77,-286.47 1246.77,-275.28 1246.77,-264.93\"/>\n",
       "<polygon fill=\"black\" stroke=\"black\" points=\"1250.27,-265.22 1246.77,-255.22 1243.27,-265.22 1250.27,-265.22\"/>\n",
       "</g>\n",
       "<!-- 34 -->\n",
       "<g id=\"node35\" class=\"node\">\n",
       "<title>34</title>\n",
       "<path fill=\"#e58139\" stroke=\"black\" d=\"M1443.52,-253.5C1443.52,-253.5 1366.02,-253.5 1366.02,-253.5 1360.02,-253.5 1354.02,-247.5 1354.02,-241.5 1354.02,-241.5 1354.02,-212.5 1354.02,-212.5 1354.02,-206.5 1360.02,-200.5 1366.02,-200.5 1366.02,-200.5 1443.52,-200.5 1443.52,-200.5 1449.52,-200.5 1455.52,-206.5 1455.52,-212.5 1455.52,-212.5 1455.52,-241.5 1455.52,-241.5 1455.52,-247.5 1449.52,-253.5 1443.52,-253.5\"/>\n",
       "<text text-anchor=\"start\" x=\"1377.02\" y=\"-236.2\" font-family=\"Helvetica,sans-Serif\" font-size=\"14.00\">gini = 0.0</text>\n",
       "<text text-anchor=\"start\" x=\"1363.9\" y=\"-221.2\" font-family=\"Helvetica,sans-Serif\" font-size=\"14.00\">samples = 28</text>\n",
       "<text text-anchor=\"start\" x=\"1362.02\" y=\"-206.2\" font-family=\"Helvetica,sans-Serif\" font-size=\"14.00\">value = [28, 0]</text>\n",
       "</g>\n",
       "<!-- 32&#45;&gt;34 -->\n",
       "<g id=\"edge34\" class=\"edge\">\n",
       "<title>32&#45;&gt;34</title>\n",
       "<path fill=\"none\" stroke=\"black\" d=\"M1298.51,-296.6C1316.82,-284.78 1337.37,-271.51 1355.48,-259.82\"/>\n",
       "<polygon fill=\"black\" stroke=\"black\" points=\"1356.93,-263.05 1363.43,-254.69 1353.13,-257.17 1356.93,-263.05\"/>\n",
       "</g>\n",
       "<!-- 37 -->\n",
       "<g id=\"node38\" class=\"node\">\n",
       "<title>37</title>\n",
       "<path fill=\"#e1f0fb\" stroke=\"black\" d=\"M1154.27,-565.5C1154.27,-565.5 1069.27,-565.5 1069.27,-565.5 1063.27,-565.5 1057.27,-559.5 1057.27,-553.5 1057.27,-553.5 1057.27,-524.5 1057.27,-524.5 1057.27,-518.5 1063.27,-512.5 1069.27,-512.5 1069.27,-512.5 1154.27,-512.5 1154.27,-512.5 1160.27,-512.5 1166.27,-518.5 1166.27,-524.5 1166.27,-524.5 1166.27,-553.5 1166.27,-553.5 1166.27,-559.5 1160.27,-565.5 1154.27,-565.5\"/>\n",
       "<text text-anchor=\"start\" x=\"1084.02\" y=\"-548.2\" font-family=\"Helvetica,sans-Serif\" font-size=\"14.00\">gini = 0.5</text>\n",
       "<text text-anchor=\"start\" x=\"1070.9\" y=\"-533.2\" font-family=\"Helvetica,sans-Serif\" font-size=\"14.00\">samples = 37</text>\n",
       "<text text-anchor=\"start\" x=\"1065.27\" y=\"-518.2\" font-family=\"Helvetica,sans-Serif\" font-size=\"14.00\">value = [17, 20]</text>\n",
       "</g>\n",
       "<!-- 36&#45;&gt;37 -->\n",
       "<g id=\"edge37\" class=\"edge\">\n",
       "<title>36&#45;&gt;37</title>\n",
       "<path fill=\"none\" stroke=\"black\" d=\"M1111.77,-608.6C1111.77,-598.47 1111.77,-587.28 1111.77,-576.93\"/>\n",
       "<polygon fill=\"black\" stroke=\"black\" points=\"1115.27,-577.22 1111.77,-567.22 1108.27,-577.22 1115.27,-577.22\"/>\n",
       "</g>\n",
       "<!-- 38 -->\n",
       "<g id=\"node39\" class=\"node\">\n",
       "<title>38</title>\n",
       "<path fill=\"#f0b990\" stroke=\"black\" d=\"M1321.27,-565.5C1321.27,-565.5 1236.27,-565.5 1236.27,-565.5 1230.27,-565.5 1224.27,-559.5 1224.27,-553.5 1224.27,-553.5 1224.27,-524.5 1224.27,-524.5 1224.27,-518.5 1230.27,-512.5 1236.27,-512.5 1236.27,-512.5 1321.27,-512.5 1321.27,-512.5 1327.27,-512.5 1333.27,-518.5 1333.27,-524.5 1333.27,-524.5 1333.27,-553.5 1333.27,-553.5 1333.27,-559.5 1327.27,-565.5 1321.27,-565.5\"/>\n",
       "<text text-anchor=\"start\" x=\"1247.27\" y=\"-548.2\" font-family=\"Helvetica,sans-Serif\" font-size=\"14.00\">gini = 0.42</text>\n",
       "<text text-anchor=\"start\" x=\"1237.9\" y=\"-533.2\" font-family=\"Helvetica,sans-Serif\" font-size=\"14.00\">samples = 49</text>\n",
       "<text text-anchor=\"start\" x=\"1232.27\" y=\"-518.2\" font-family=\"Helvetica,sans-Serif\" font-size=\"14.00\">value = [34, 15]</text>\n",
       "</g>\n",
       "<!-- 36&#45;&gt;38 -->\n",
       "<g id=\"edge38\" class=\"edge\">\n",
       "<title>36&#45;&gt;38</title>\n",
       "<path fill=\"none\" stroke=\"black\" d=\"M1166.45,-608.6C1185.81,-596.78 1207.53,-583.51 1226.67,-571.82\"/>\n",
       "<polygon fill=\"black\" stroke=\"black\" points=\"1228.42,-574.86 1235.13,-566.66 1224.77,-568.88 1228.42,-574.86\"/>\n",
       "</g>\n",
       "</g>\n",
       "</svg>\n"
      ],
      "text/plain": [
       "<graphviz.sources.Source at 0x1776b3710>"
      ]
     },
     "execution_count": 60,
     "metadata": {},
     "output_type": "execute_result"
    }
   ],
   "source": [
    "m = DecisionTreeClassifier(min_samples_leaf=25)\n",
    "m.fit(trn_xs, trn_y)\n",
    "draw_tree(m, trn_xs, size=12)"
   ]
  },
  {
   "cell_type": "code",
   "execution_count": 61,
   "id": "36cd7fac-d427-4863-90cc-dac7f47d0a71",
   "metadata": {},
   "outputs": [
    {
     "data": {
      "text/plain": [
       "0.18435754189944134"
      ]
     },
     "execution_count": 61,
     "metadata": {},
     "output_type": "execute_result"
    }
   ],
   "source": [
    "mean_absolute_error(val_y, m.predict(val_xs))\n"
   ]
  },
  {
   "cell_type": "code",
   "execution_count": 62,
   "id": "8af2796e-f69e-4784-a41f-3affb68eb27a",
   "metadata": {},
   "outputs": [],
   "source": [
    "tst_df[cats] = tst_df[cats].apply(lambda x: x.cat.codes)\n",
    "tst_xs,_ = xs_y(tst_df)\n",
    "\n",
    "def subm(preds, suff):\n",
    "    tst_df['Survived'] = preds\n",
    "    sub_df = tst_df[['PassengerId','Survived']]\n",
    "    sub_df.to_csv(f'sub-{suff}.csv', index=False)\n",
    "\n",
    "subm(m.predict(tst_xs), 'tree')"
   ]
  },
  {
   "cell_type": "code",
   "execution_count": 83,
   "id": "20d11918-68d8-495e-9039-acdc5f4669db",
   "metadata": {},
   "outputs": [],
   "source": [
    "def get_tree(prop=0.80):\n",
    "    n = len(trn_y)\n",
    "    idxs = random.choice(n, int(n*prop))\n",
    "    return DecisionTreeClassifier(min_samples_leaf=10).fit(trn_xs.iloc[idxs], trn_y.iloc[idxs])"
   ]
  },
  {
   "cell_type": "code",
   "execution_count": 86,
   "id": "73e1d2ba-8e69-49ca-8eb1-f186e75049db",
   "metadata": {},
   "outputs": [],
   "source": [
    "trees = [get_tree() for t in range(25)]"
   ]
  },
  {
   "cell_type": "code",
   "execution_count": 87,
   "id": "c983e977-a66e-445d-a6ce-019c90422aab",
   "metadata": {},
   "outputs": [
    {
     "data": {
      "text/plain": [
       "0.2158659217877095"
      ]
     },
     "execution_count": 87,
     "metadata": {},
     "output_type": "execute_result"
    }
   ],
   "source": [
    "all_probs = [t.predict(val_xs) for t in trees]\n",
    "avg_probs = np.stack(all_probs).mean(0)\n",
    "\n",
    "mean_absolute_error(val_y, avg_probs)"
   ]
  },
  {
   "cell_type": "code",
   "execution_count": 97,
   "id": "735cb44a-458c-48be-805f-4f333d0624c6",
   "metadata": {},
   "outputs": [
    {
     "data": {
      "text/plain": [
       "0.16759776536312848"
      ]
     },
     "execution_count": 97,
     "metadata": {},
     "output_type": "execute_result"
    }
   ],
   "source": [
    "from sklearn.ensemble import RandomForestClassifier\n",
    "\n",
    "rf = RandomForestClassifier(25, min_samples_leaf=5)\n",
    "rf.fit(trn_xs, trn_y);\n",
    "mean_absolute_error(val_y, rf.predict(val_xs))"
   ]
  },
  {
   "cell_type": "code",
   "execution_count": 99,
   "id": "3f43841b-64d5-4020-9016-1f4a34fc97a6",
   "metadata": {},
   "outputs": [],
   "source": [
    "subm(rf.predict(tst_xs), 'rf')"
   ]
  },
  {
   "cell_type": "code",
   "execution_count": 103,
   "id": "d5b643a8-d67f-42eb-b1d2-d5404a635e3f",
   "metadata": {},
   "outputs": [
    {
     "data": {
      "image/png": "[encoded data removed]",
      "text/plain": [
       "<Figure size 640x480 with 1 Axes>"
      ]
     },
     "metadata": {},
     "output_type": "display_data"
    }
   ],
   "source": [
    "pd.DataFrame(dict(cols=trn_xs.columns, imp=rf.feature_importances_)).plot('cols', 'imp', 'barh');"
   ]
  },
  {
   "cell_type": "code",
   "execution_count": null,
   "id": "23c9fb65-96c9-4c46-ac1b-f4ff40af749f",
   "metadata": {},
   "outputs": [],
   "source": []
  }
 ],
 "metadata": {
  "kernelspec": {
   "display_name": "Python 3 (ipykernel)",
   "language": "python",
   "name": "python3"
  },
  "language_info": {
   "codemirror_mode": {
    "name": "ipython",
    "version": 3
   },
   "file_extension": ".py",
   "mimetype": "text/x-python",
   "name": "python",
   "nbconvert_exporter": "python",
   "pygments_lexer": "ipython3",
   "version": "3.12.9"
  }
 },
 "nbformat": 4,
 "nbformat_minor": 5
}
